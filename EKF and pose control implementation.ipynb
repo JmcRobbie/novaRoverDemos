{
 "cells": [
  {
   "cell_type": "markdown",
   "metadata": {},
   "source": [
    "## Pose control, EKF and their implementation\n",
    "The purpose of thise notebook is to extend the work done in a seperate notebook. With the specifc intention of "
   ]
  },
  {
   "cell_type": "markdown",
   "metadata": {},
   "source": [
    "### Extended Kalman Filter: \n",
    "This is a toy implementation of an extended kalman filter for systematic rover localization using a collection of sensors. We will simplify the case to 2D. \n"
   ]
  },
  {
   "cell_type": "markdown",
   "metadata": {},
   "source": [
    "### The General form of a kalman filter\n",
    "#### Predict \n",
    "Assuming an unknown control input (might change this later). We use the current state of the rover to predict how it will change into the future. This state estimate will be fused with extra sensor information later. \n",
    "State estimate:\n",
    "$$\n",
    "\\varkappa_{i+1|i} = F_{i|i} \\varkappa_{i|i}  \n",
    "$$\n",
    "Error covariance: \n",
    "$$\n",
    "P_{i+1|i} = F_{i|i} P_{i|i}F_{i|i}^T +Q_i\n",
    "$$"
   ]
  },
  {
   "cell_type": "markdown",
   "metadata": {},
   "source": [
    "The subscripts denote the step which that estimate refers to and the step which the sensor information comes from respectively. As you can see above they are _predictions_ based on propagating the state from the previous step. And do not integrate any sensor data yet. \n",
    "##### Update:\n",
    "The Kalman filter then does some other stuff. \n",
    "$$\n",
    "\\bar{y}_{i+1} = z_{i+1} - H_{i+1} \\varkappa_{i+1|i}\n",
    "$$\n",
    "\n",
    "$$\n",
    "S_{i+1} = H_{i+1} P_{i+1|i}H_{i+1}^T + R_{i+1}\n",
    "$$\n",
    "\n",
    "$$\n",
    "K_{i+1} = P_{i+1|i}H_{i+1}^T S^{-1}_{i+1}\n",
    "$$\n",
    "\n",
    "$$\n",
    "\\varkappa_{i+1|i+1} = \\varkappa_{i+1|i} + K_{i+1} \\bar{y}_{i+1} \n",
    "$$\n",
    "\n",
    "$$\n",
    "P_{i+1|i+1} = (I-K_{i+1}H_{i+1})P_{i+1|i}\n",
    "$$\n",
    "\n",
    "$$\n",
    "\\bar{y}_{i+1|i+1}  = z_{i+1} - H_{i+1} \\varkappa_{i+1|i+1}\n",
    "$$"
   ]
  },
  {
   "cell_type": "markdown",
   "metadata": {},
   "source": [
    "And thats it! The remaining analysis and work is to estimate a few of the matrices introduced withou context above. First we want to create an estimate of the $F_{i|i}$ matrix. It represents a linear mapping of the previous state to the current one. "
   ]
  },
  {
   "cell_type": "markdown",
   "metadata": {},
   "source": [
    "To streamline this process of implementing a EKF (which is more advanced than the filter described here) we will borrow a prior toy implementation of a very similar problem from the widely used, cited and loved repo https://atsushisakai.github.io/PythonRobotics/. I cannot recommend this resource highly enough. Much of the ekf and pose control that follows is directly taken (with some modification) from this repo. \n",
    "\n"
   ]
  },
  {
   "cell_type": "markdown",
   "metadata": {},
   "source": [
    "I'll skip over the details of the implementation of the filter for our purposes and simply leave the python robotics explanation unmolested. The main change to be made to their implementation of an ekf is the process of how the input is computed. We need to make our rover drive over the path that a-star has specified for us. "
   ]
  },
  {
   "cell_type": "markdown",
   "metadata": {},
   "source": [
    "The next thing we need is a model that will generate a control effort based on the current pose of the rover, and its desired pose. Once we have a strong estimation of the rovers pose in 3D we will use the following method to output a desireable actual motion in 2d to move the rover towards the goal. "
   ]
  },
  {
   "cell_type": "code",
   "execution_count": 1,
   "metadata": {},
   "outputs": [],
   "source": [
    "import poseControl\n",
    "import numpy as np\n",
    "import matplotlib.pyplot as plt\n",
    "from demoUtilities import rover"
   ]
  },
  {
   "cell_type": "markdown",
   "metadata": {},
   "source": [
    "The following routine updates the state of the rover so that a ground truth can be established. The imported ekf will then estimate the state of the rover through simulated noisey sensors.  "
   ]
  },
  {
   "cell_type": "code",
   "execution_count": 2,
   "metadata": {},
   "outputs": [],
   "source": [
    "def update(current,u,w,dt):\n",
    "    current.theta = current.theta + w*dt\n",
    "    current.x = current.x + u*np.cos(current.theta) * dt\n",
    "    current.y = current.y + u*np.sin(current.theta) * dt\n"
   ]
  },
  {
   "cell_type": "markdown",
   "metadata": {},
   "source": [
    "With all of these components introduced, lets try driving our rover from one position to another. We will create three instances of the rover class, one that represents the desired state, one that represents the true state, and one that represents the desired state. "
   ]
  },
  {
   "cell_type": "code",
   "execution_count": 3,
   "metadata": {},
   "outputs": [],
   "source": [
    "import poseControl\n",
    "start= [0.0, 0.0, np.pi/4.0]\n",
    "end = [10.0, 10.0,np.pi]\n",
    "goal_rover_pose = rover(end[0],end[1],end[2])\n",
    "true_rover_pose = rover(start[0],start[1],start[2])\n",
    "est_rover_pose = rover(start[0],start[1],start[2])\n",
    "dt = 0.01\n",
    "[v,w] = poseControl.move_to_pose_step(est_rover_pose, goal_rover_pose)\n",
    "update(true_rover_pose,v,w,dt)\n",
    "\n",
    "x_pos = []\n",
    "y_pos = []"
   ]
  },
  {
   "cell_type": "code",
   "execution_count": 5,
   "metadata": {},
   "outputs": [
    {
     "data": {
      "image/png": "[encoded data removed]",
      "text/plain": [
       "<Figure size 432x288 with 1 Axes>"
      ]
     },
     "metadata": {},
     "output_type": "display_data"
    }
   ],
   "source": [
    "while(abs(true_rover_pose.x-goal_rover_pose.x)>0.1 or abs(true_rover_pose.y-goal_rover_pose.y)>0.1):\n",
    "\n",
    "    x_pos.append(true_rover_pose.x)\n",
    "    y_pos.append(true_rover_pose.y)\n",
    "    [v,w] = poseControl.move_to_pose_step(true_rover_pose, goal_rover_pose)\n",
    "    update(true_rover_pose,v,w,dt)\n",
    "\n",
    "plt.cla()\n",
    "plt.arrow(start[0],start[1], np.cos(start[2]),\n",
    "          np.sin(start[2]), color='r', width=0.1)\n",
    "plt.arrow(end[0], end[1], np.cos(end[2]),\n",
    "          np.sin(end[2]), color='g', width=0.1)\n",
    "poseControl.plot_vehicle(start[0],start[1],0,x_pos,y_pos)"
   ]
  },
  {
   "cell_type": "markdown",
   "metadata": {},
   "source": [
    "The next step is to integrate sampling from the sensors and ekf integration and use that as the state estimate rather than simply passing in the true state."
   ]
  },
  {
   "cell_type": "code",
   "execution_count": 6,
   "metadata": {},
   "outputs": [],
   "source": [
    "import ekf"
   ]
  },
  {
   "cell_type": "markdown",
   "metadata": {},
   "source": [
    "Resetting the state of the rover. "
   ]
  },
  {
   "cell_type": "markdown",
   "metadata": {},
   "source": [
    "Now we need to set up a loop that uses the EKF to repeatedly estimate the state of the rover, and then use that for rover postion estimation and therefore velocity and rotation generation. "
   ]
  },
  {
   "cell_type": "code",
   "execution_count": 7,
   "metadata": {},
   "outputs": [
    {
     "data": {
      "image/png": "[encoded data removed]",
      "text/plain": [
       "<Figure size 432x288 with 1 Axes>"
      ]
     },
     "metadata": {},
     "output_type": "display_data"
    }
   ],
   "source": [
    "start= [0.0, 0.0, np.pi/4.0]\n",
    "end = [-10.0, 10.0,np.pi]\n",
    "v = 0 # inital velocity is zero\n",
    "goal_rover_pose = rover(end[0],end[1],end[2])\n",
    "true_rover_pose = rover(start[0],start[1],start[2])\n",
    "est_rover_pose = rover(start[0],start[1],start[2])\n",
    "\n",
    "PEst = np.eye(4)\n",
    "\n",
    "xDR = np.zeros((4, 1))  # Dead reckoning\n",
    "state_est = np.zeros((4,1))\n",
    "state_true = np.zeros((4,1))\n",
    "# history\n",
    "hxEst = state_est\n",
    "hxTrue = state_true\n",
    "hxDR = state_true\n",
    "hz = np.zeros((2, 1))\n",
    "\n",
    "error_move = abs(true_rover_pose.x-goal_rover_pose.x) + abs(true_rover_pose.y-goal_rover_pose.y)\n",
    "\n",
    "ekf.DT = 0.01\n",
    "while (error_move>0.5):\n",
    "    est_rover_pose.updatestate(state_est)\n",
    "    true_rover_pose.updatestate(state_true)\n",
    "\n",
    "    [v,w] = poseControl.move_to_pose_step(est_rover_pose, goal_rover_pose)\n",
    "    \n",
    "    u = np.array([v, w])\n",
    "    \n",
    "    state_true, z, xDR, ud = ekf.observation(state_true, xDR, u)\n",
    "\n",
    "    state_est, PEst = ekf.ekf_estimation(state_est, PEst, z, ud)\n",
    "\n",
    "    # store data history\n",
    "    hxEst = np.hstack((hxEst, state_est))\n",
    "    hxDR = np.hstack((hxDR, xDR))\n",
    "    hxTrue = np.hstack((hxTrue, state_true))\n",
    "    hz = np.hstack((hz, z))\n",
    "    error_move = abs(true_rover_pose.x-goal_rover_pose.x) + abs(true_rover_pose.y-goal_rover_pose.y)\n",
    "plt.cla()\n",
    "plt.plot(hz[0, :], hz[1, :], \".g\")\n",
    "plt.plot(hxTrue[0, :].flatten(),\n",
    "         hxTrue[1, :].flatten(), \"-b\")\n",
    "plt.plot(hxDR[0, :].flatten(),\n",
    "         hxDR[1, :].flatten(), \"-k\")\n",
    "plt.plot(hxEst[0, :].flatten(),\n",
    "         hxEst[1, :].flatten(), \"-r\")\n",
    "ekf.plot_covariance_ellipse(state_est, PEst)\n",
    "plt.axis(\"equal\")\n",
    "plt.grid(True)\n",
    "plt.pause(0.0001)\n",
    "    "
   ]
  },
  {
   "cell_type": "markdown",
   "metadata": {},
   "source": [
    "One of the remaining questions is regarding the assumption behind pose control - namely that the simulation assumes that the pose of the velocity and turn rate can be perfectly controlled. This is ofcouse not even close to true, and the robustness of this algorithm needs to be evaluated in relation to that."
   ]
  },
  {
   "cell_type": "code",
   "execution_count": null,
   "metadata": {},
   "outputs": [],
   "source": []
  }
 ],
 "metadata": {
  "kernelspec": {
   "display_name": "Python 3",
   "language": "python",
   "name": "python3"
  },
  "language_info": {
   "codemirror_mode": {
    "name": "ipython",
    "version": 3
   },
   "file_extension": ".py",
   "mimetype": "text/x-python",
   "name": "python",
   "nbconvert_exporter": "python",
   "pygments_lexer": "ipython3",
   "version": "3.6.8"
  }
 },
 "nbformat": 4,
 "nbformat_minor": 4
}
