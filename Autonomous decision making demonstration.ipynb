{
 "cells": [
  {
   "cell_type": "markdown",
   "metadata": {},
   "source": [
    "# A demonstration of the autonomous decision making system"
   ]
  },
  {
   "cell_type": "markdown",
   "metadata": {},
   "source": [
    "### The intent of this notebook is to demonstrate the use of a decision making system for the Nova Rover. In order to do this we need to: \n",
    "1. Simulate the rover's motion and detections in a simulated environment.\n",
    "2. Simulate detected obstacles and targets\n",
    "3. Demonstrate decision making system that avoids "
   ]
  },
  {
   "cell_type": "code",
   "execution_count": 166,
   "metadata": {},
   "outputs": [],
   "source": [
    "import numpy as np\n",
    "import math\n",
    "import matplotlib.pyplot as plt\n",
    "\n",
    "class rover:\n",
    "    def __init__(self,x,y,th):\n",
    "        # Initial conditions selected arbitrarily\n",
    "        self.x = x\n",
    "        self.y = y \n",
    "        self.theta = th   \n",
    "        self.v = 0\n",
    "        self.world = []\n",
    "    def updatestate(self,state):\n",
    "        self.x = state[0]\n",
    "        self.y = state[1]\n",
    "        self.theta = state[2]\n",
    "        self.v = state[3]\n",
    "    def updateMap(self,map):\n",
    "        self.world = map"
   ]
  },
  {
   "cell_type": "markdown",
   "metadata": {},
   "source": [
    "Now that the class of the rover has been defined, we will implement an a* based pathfinding algorithm to search over the known grid. \n",
    "We begin by defining a grid that exists as the rovers main knowledge base. Called World ($W$)\n",
    "Where, $W$ is a 2D array used to denote the \"threat\" or \"opportunity\" level of the grid square. All grid sqaures correspond to real world positions, each grid square has width $w$, which can be tuned for the application. \n",
    "\n",
    "Each cell has a value $W_{x,y} \\in \\mathbb{R}$ \n",
    "\n",
    "Lower values are an opportunity, Higher values are a threat. \n",
    "The algorithm for searching the space works as follows.\n",
    "1. **Initialise** If the rover has just begun a new search for a target (could be a tennis ball) then initialise the array with the following. If this is not true skip this step. \n",
    "    1. Generate an array of zeros with height and width defined by the distance between the target and the rover as estimated by the rovers localization algorithm and the competition supplied gps coordinates. Ensure sufficient for overshoot. For example if it is $X$ m to the tennis ball and square width is defined as $w$ then $n = \\frac{X}{w}$ is the height and width of the array. \n",
    "    2. Place a guassian function at the tennis ball gps location with amplitude $A = -1$ and each cell within range $3 \\sigma$ from the centre calculate its value from that guassian. \n",
    "    \n"
   ]
  },
  {
   "cell_type": "code",
   "execution_count": 167,
   "metadata": {
    "scrolled": true
   },
   "outputs": [
    {
     "data": {
      "image/png": "[encoded data removed]",
      "text/plain": [
       "<Figure size 432x288 with 1 Axes>"
      ]
     },
     "metadata": {},
     "output_type": "display_data"
    }
   ],
   "source": [
    "## Initialisation routine example in python. \n",
    "\n",
    "def normpdf(x, mean, sd):\n",
    "    var = float(sd)**2\n",
    "    denom = (2*math.pi*var)**.5\n",
    "    num = math.exp(-(float(x)-float(mean))**2/(2*var))\n",
    "    return num/denom\n",
    "def applyGaussianToField(field,weight,x,y,sigma):\n",
    "    for i in range(y-3*sigma,y+3*sigma):            \n",
    "        for j in range(x-3*sigma,x+3*sigma):\n",
    "            cart_distance = math.sqrt((x-j)**2 +(y-i)**2)\n",
    "            if i in set(range(0,field.shape[0])) and j in set(range(0, field.shape[1])):\n",
    "                field[i,j] = weight* normpdf(cart_distance,0,sigma) +field[i,j] \n",
    "    return field\n",
    "def Initialise_tennis_ball_search(x=40,y=50):\n",
    "    suspected_x, suspected_y = (x,y)\n",
    "    rover_x, rover_y = (0,0)\n",
    "    width = 1 # width of a grid cell = 0.1m (tuneable)\n",
    "    sigma = 5 # standard deviation of the guassian\n",
    "    fudgeFactor =1.5 ## Tuneable!\n",
    "    x_size = int (fudgeFactor*(suspected_x-rover_x)+ 1)\n",
    "    y_size = int (fudgeFactor*(suspected_y-rover_y)+ 1)\n",
    "    RoverWorld = np.ones((y_size,x_size))\n",
    "    \n",
    "    RoverWorld = applyGaussianToField(RoverWorld,-20.0,suspected_x,suspected_y,5)\n",
    "    return RoverWorld\n",
    "\n",
    "\n",
    "arr = Initialise_tennis_ball_search()\n",
    "plt.imshow(arr, cmap='hot', interpolation='nearest')\n",
    "plt.show()"
   ]
  },
  {
   "cell_type": "markdown",
   "metadata": {},
   "source": [
    "This is what the rover will know about the world when it first starts up, it will identify the cell of highest interest (Lowest cell index value) and use a minimum cost pathfinding approach\n",
    "2. **Remap** the rover will scan the environment with its sensors and re update the map using its current estimates. \n",
    "    1. Detect any obstacles and/or opportunities with a certain confidence level $p$ and with a certain confidence on the localisation $\\sigma_ij$. \n",
    "    2. Update the _RoverWorld_ map with the targets and opportunities, scaling them appropriately based on cost. \n",
    "3. **Pathfind** Once the map has been updated, recompute the path forward using the new information. \n",
    "4. **Move** and iterate the process. \n"
   ]
  },
  {
   "cell_type": "code",
   "execution_count": 168,
   "metadata": {},
   "outputs": [],
   "source": [
    "# Defining obstacles notation size x position y position sigma\n",
    "obstacles = [(100,20,20,5),(100,20,40,5),(200,40,20,10)]\n"
   ]
  },
  {
   "cell_type": "code",
   "execution_count": 169,
   "metadata": {},
   "outputs": [
    {
     "data": {
      "image/png": "[encoded data removed]",
      "text/plain": [
       "<Figure size 432x288 with 1 Axes>"
      ]
     },
     "metadata": {},
     "output_type": "display_data"
    }
   ],
   "source": [
    "for obstacle in obstacles:\n",
    "    arr = applyGaussianToField(arr,*obstacle)\n",
    "    \n",
    "plt.imshow(arr, cmap='hot', interpolation='nearest')\n",
    "plt.show()"
   ]
  },
  {
   "cell_type": "markdown",
   "metadata": {},
   "source": [
    "This is an example of how the world will hopefully look from the perspective of the Rover while it is navigating. The remaining task is to pathfind over that graph. We will use the astar algorithm developed by MSP for the 2018 rover to accomplish this. See code below (however, the datails are not super relevant for our purposes here). "
   ]
  },
  {
   "cell_type": "markdown",
   "metadata": {},
   "source": [
    "Before anything else we need to select an objective of the rover, for simplicity we will use the minimum of the graph, something more complex (intelligent) could concievably be used though. "
   ]
  },
  {
   "cell_type": "code",
   "execution_count": 170,
   "metadata": {},
   "outputs": [],
   "source": [
    "from math import sqrt, inf\n",
    "from itertools import product\n",
    "\n",
    "def euclidean_heuristic_cost(curr, end):\n",
    "    \"\"\"\n",
    "    Estimates cost from curr (x0,y0) to end (x1,y1) using Euclidean\n",
    "    distance.\n",
    "    \"\"\"\n",
    "    curr_x, curr_y = curr\n",
    "    end_x, end_y = end\n",
    "    return sqrt((curr_x-end_x)**2 + (curr_y-end_y)**2)\n",
    "\n",
    "def manhattan_heuristic_cost(curr, end):\n",
    "    \"\"\"\n",
    "    Estimates cost from curr (x0,y0) to end (x1,y1) using Manhattan\n",
    "    distance.\n",
    "    \"\"\"\n",
    "    curr_x, curr_y = curr\n",
    "    end_x, end_y = end\n",
    "    return abs(curr_x-end_x) + abs(curr_y-end_y)\n",
    "\n",
    "def reconstruct_path_to_destination(prev, end):\n",
    "    \"\"\"\n",
    "    Constructs an in-order sequence of (x,y) coordinates (list of tuples)\n",
    "    to the end destination using the mapping from nodes to their predecessors\n",
    "    (prev).\n",
    "    \"\"\"\n",
    "    path = [end]\n",
    "    curr = end\n",
    "    while curr in prev.keys():\n",
    "        curr = prev[curr]\n",
    "        path.insert(0, curr)\n",
    "    return path\n",
    "\n",
    "def get_successors(node, grid):\n",
    "    \"\"\"\n",
    "    The neighbors of a cell (node) in the grid are the 8-surrounding cells.\n",
    "    \"\"\"\n",
    "    successors = []\n",
    "\n",
    "    node_x, node_y = node\n",
    "    n_rows = len(grid)\n",
    "    n_cols = len(grid[0])\n",
    "\n",
    "    for dx, dy in product([-1,0,1],[-1,0,1]):\n",
    "        # skip the current node itself\n",
    "        if (dx == 0 and dy == 0):\n",
    "            continue\n",
    "\n",
    "        x = node_x + dx\n",
    "        y = node_y + dy\n",
    "\n",
    "        if (0 <= x < n_rows and 0 <= y < n_cols):\n",
    "            cost = grid[y][x]\n",
    "        else:\n",
    "            # put infinite penalty on successors that would take us off the edge of the grid\n",
    "            cost = inf\n",
    "\n",
    "        successors.append( ((x, y), cost) )\n",
    "\n",
    "    return successors\n",
    "\n",
    "def node_with_min_fscore(open_set, f_cost): # open_set is a set (of cell) and f_cost is a dict (with cells as keys) \n",
    "    \"\"\"\n",
    "    Find the cell in open set with the smallest f score.\n",
    "    \"\"\"\n",
    "    f_cost_open = dict([a for a in f_cost.items() if a[0] in open_set])\n",
    "    return min(f_cost_open, key=f_cost_open.get)\n",
    "\n",
    "def a_star(grid, start, end, heuristic_cost=manhattan_heuristic_cost):\n",
    "    \"\"\"\n",
    "    Implementation of A Star over a 2D grid. Returns a list of waypoints\n",
    "    as a list of (x,y) tuples.\n",
    "\n",
    "    Input:\n",
    "    : grid, 2D matrix\n",
    "    : start, (x,y) tuple, start position\n",
    "    : end, (x,y) tuple, end destination\n",
    "\n",
    "    Output:\n",
    "    : waypoints, list of (x,y) tuples\n",
    "    \"\"\"\n",
    "    # the set of cells already evaluated\n",
    "    closed_set = set()\n",
    "\n",
    "    # the set of cells already discovered\n",
    "    open_set = set()\n",
    "    open_set.add(start)\n",
    "\n",
    "    # for each cell, mapping to its least-cost incoming cell\n",
    "    prev = {}\n",
    "   \n",
    "    # for each node, cost of reaching it from start (g_cost) \n",
    "    # for each node, cost of getting from start to dest via that node (f_cost)\n",
    "    #   note: cell->dest component of f_cost will be estimated using a heuristic\n",
    "    g_cost = {}\n",
    "    f_cost = {}\n",
    "    for r in range(len(grid)):\n",
    "        for c in range(len(grid[0])):\n",
    "            cell = (r, c)\n",
    "            g_cost[cell] = inf\n",
    "            f_cost[cell] = inf\n",
    "    g_cost[start] = 0\n",
    "    f_cost[start] = heuristic_cost(start, end)\n",
    "\n",
    "    while open_set:\n",
    "        # node in open set with min fscore\n",
    "        curr = node_with_min_fscore(open_set, f_cost)\n",
    "        \n",
    "        # if we've reached the destination\n",
    "        if curr == end:\n",
    "            return reconstruct_path_to_destination(prev, curr)\n",
    "\n",
    "        open_set.remove(curr)\n",
    "        closed_set.add(curr)\n",
    "        \n",
    "        for neighbor, cost in get_successors(curr, grid):\n",
    "            # ignore neighbors which have already been evaluated\n",
    "            if neighbor in closed_set:\n",
    "                continue\n",
    "\n",
    "            curr_g_score =  g_cost[curr] + cost\n",
    "            # add neighbor to newly discovered nodes\n",
    "            if neighbor not in open_set:\n",
    "                open_set.add(neighbor)\n",
    "\n",
    "            # if we've already got a lower g_score for neighbor, then move on\n",
    "            elif curr_g_score >= g_cost[neighbor]:\n",
    "                continue\n",
    "\n",
    "            prev[neighbor] = curr\n",
    "            g_cost[neighbor] = curr_g_score\n",
    "            f_cost[neighbor] = g_cost[neighbor] + heuristic_cost(neighbor, end)\n",
    "\n",
    "    # if we get to this point, it's not possible to reach the end destination\n",
    "    return []\n"
   ]
  },
  {
   "cell_type": "code",
   "execution_count": 171,
   "metadata": {},
   "outputs": [],
   "source": [
    "min_index_y, min_index_x = np.argwhere(arr == np.min(arr))[0]\n",
    "path = a_star(arr,(0,0),(min_index_x, min_index_y))"
   ]
  },
  {
   "cell_type": "markdown",
   "metadata": {},
   "source": [
    "We now have a path from the beginning point (0,0) to the end target point (50,50). For simplicity we are assuming that the target is exactly at the place where it is most likely to be. Obviously this does not reflect reality, but we will build to that. The next step is to superimpose the path onto a plot of the grid of threats and opportunities to show that it is navigating appropriately. "
   ]
  },
  {
   "cell_type": "code",
   "execution_count": 172,
   "metadata": {},
   "outputs": [
    {
     "data": {
      "image/png": "[encoded data removed]",
      "text/plain": [
       "<Figure size 432x288 with 1 Axes>"
      ]
     },
     "metadata": {},
     "output_type": "display_data"
    }
   ],
   "source": [
    "x_pos = []\n",
    "y_pos = []\n",
    "for x, y in path:\n",
    "    x_pos.append(x)\n",
    "    y_pos.append(y)\n",
    "plt.plot(x_pos,y_pos)\n",
    "plt.imshow(arr, cmap='hot', interpolation='nearest')\n",
    "plt.show()\n"
   ]
  },
  {
   "cell_type": "markdown",
   "metadata": {},
   "source": [
    "Now that we have tackled the problem of searching over a known field we need to address the more pressing challenge. Pathfinding over a unknown field. As described above, the strategy will be to update the map that we are pathfinding over, and then run a* on that. For simplicity we will simply say that the rover takes the next position identified by the a star pathfinding algorithm, and then rescans the environment and repeats the process."
   ]
  },
  {
   "cell_type": "code",
   "execution_count": 173,
   "metadata": {},
   "outputs": [
    {
     "data": {
      "image/png": "[encoded data removed]",
      "text/plain": [
       "<Figure size 432x288 with 1 Axes>"
      ]
     },
     "metadata": {},
     "output_type": "display_data"
    }
   ],
   "source": [
    "rover_init_postion = (0,0)\n",
    "ball_location = (36,53) # The actual position of the ball. \n",
    "roverWorld = Initialise_tennis_ball_search()\n",
    "\n",
    "plt.imshow(roverWorld, cmap='hot', interpolation='nearest')\n",
    "min_index_y, min_index_x = np.argwhere(roverWorld == np.min(roverWorld))[0]\n",
    "path_new = a_star(roverWorld,(0,0),(min_index_x, min_index_y))\n",
    "x_pos = []\n",
    "y_pos = []\n",
    "for x, y in path_new:\n",
    "    x_pos.append(x)\n",
    "    y_pos.append(y)\n",
    "plt.plot(x_pos,y_pos)\n",
    "plt.plot(ball_location[0],ball_location[1],\"ro\")\n",
    "plt.show()\n"
   ]
  },
  {
   "cell_type": "markdown",
   "metadata": {},
   "source": [
    "This the first step in the loop, the red dot on the graph represents the actual position of the tennis ball. To make things more challenging we will add 50 obstacles dotted throughout the region, generated randomly."
   ]
  },
  {
   "cell_type": "markdown",
   "metadata": {},
   "source": [
    "We then need to simulate the detection of these obstacles and targets. \n",
    "\n",
    "To do this we will use either random or user generated obstacle lists, when the rover is within a certain range of these obstacles the rover adds them to the map. A similar thing happens with the tennis ball, when it is within range the location of the tennis ball is set to be a place of high interest that the rover can navigate to. \n",
    "\n",
    "Randomly generating obstacles can be done but they wont necessarily get placed anywhere interesting, so the use can choose to drop them exactly in the path of the rover and then re run the notebook. This leads to more interesting behaviour. "
   ]
  },
  {
   "cell_type": "code",
   "execution_count": 174,
   "metadata": {},
   "outputs": [],
   "source": [
    "import random \n",
    "random.seed()\n",
    "# unknown_obstacles = [ ( random.randint(0, 60), random.randint(0, 60) ) for k in range(10) ]\n",
    "unknown_obstacles = [(7,40)]\n",
    "unknown = set(unknown_obstacles)\n",
    "\n",
    "roverLoc = rover_init_postion\n",
    "def scan(known,obs,pos,tenLoc):\n",
    "    pos_x, pos_y = pos\n",
    "    rge = [-3,-2,-1,0,1,2,3]\n",
    "    n_rows = len(known)\n",
    "    n_cols = len(known[0])   \n",
    "    reach = [(pos_x + dx, pos_y + dy) for dx, dy in product(rge,rge)]\n",
    "    for x, y in reach:\n",
    "\n",
    "        if (x,y) in obs:\n",
    "            return applyGaussianToField(known,20,x,y,5)\n",
    "        elif (x,y) == tenLoc:\n",
    "            return applyGaussianToField(known,-70,x,y,5)\n",
    "    \n",
    "    return known\n",
    "\n",
    "path = [roverLoc]"
   ]
  },
  {
   "cell_type": "markdown",
   "metadata": {},
   "source": [
    "We will also add back the obstacles from the earlier sections to the rover map. We will tell the rover about these obstacles ahead of time, we can imagine these as simulating no-go zones that the rover will avoid based on satellite imagery analysis of the competition area.  "
   ]
  },
  {
   "cell_type": "code",
   "execution_count": 175,
   "metadata": {},
   "outputs": [
    {
     "data": {
      "image/png": "[encoded data removed]",
      "text/plain": [
       "<Figure size 432x288 with 1 Axes>"
      ]
     },
     "metadata": {},
     "output_type": "display_data"
    }
   ],
   "source": [
    "for obstacle in obstacles:\n",
    "    roverWorld = applyGaussianToField(roverWorld,*obstacle)\n",
    "\n",
    "plt.imshow(roverWorld, cmap='hot', interpolation='nearest')\n",
    "plt.plot(ball_location[0],ball_location[1],\"ro\",color = \"Green\")\n",
    "plt.show()"
   ]
  },
  {
   "cell_type": "markdown",
   "metadata": {},
   "source": [
    "We can see the rovers initial understanding of the environment with the tennis ball position in green shown as well. The rover only has the rough estimate of the tennis ball position given from the rough guassian near it. It does not know the exact location of the tennis ball, only that it is most likely nearby. "
   ]
  },
  {
   "cell_type": "code",
   "execution_count": 176,
   "metadata": {},
   "outputs": [
    {
     "data": {
      "image/png": "[encoded data removed]",
      "text/plain": [
       "<Figure size 432x288 with 1 Axes>"
      ]
     },
     "metadata": {},
     "output_type": "display_data"
    }
   ],
   "source": [
    "while roverLoc != ball_location:\n",
    "    roverWorld = scan(roverWorld,unknown,roverLoc,ball_location)\n",
    "    min_y, min_x = np.argwhere(roverWorld == np.min(roverWorld))[0]\n",
    "    curr_path = a_star(roverWorld,roverLoc,(min_x,min_y))\n",
    "\n",
    "    if len(curr_path) == 1:\n",
    "        break\n",
    "\n",
    "    roverLoc = curr_path[1]\n",
    "    path.append(roverLoc)\n",
    "    \n",
    "\n",
    "    \n",
    "plt.imshow(roverWorld, cmap='hot', interpolation='nearest')\n",
    "plt.plot(ball_location[0],ball_location[1],\"ro\",color = \"Green\")\n",
    "x_pos = []\n",
    "y_pos = []\n",
    "for ob in unknown_obstacles:\n",
    "    plt.plot(ob[0],ob[1],\"X\",color=\"black\")\n",
    "for x, y in path:\n",
    "    x_pos.append(x)\n",
    "    y_pos.append(y)\n",
    "plt.plot(x_pos,y_pos)\n",
    "plt.show()"
   ]
  },
  {
   "cell_type": "markdown",
   "metadata": {},
   "source": [
    "The path the rover took to reach the final tennis ball is shown in blue and any obstacles added to the field are in black crosses and the rovers final knowledge of the environment. \n",
    "\n",
    "We can see that one of the major remaining issues is that the search path does not priorities driving over regions of interest on the way to any given target. This can be addressed by adjusting the heuristic of the a* search algorithm. But that is beyond the scope of this demonstration. \n",
    "\n",
    "The purpose was to demonstrate a decision making process for the rover to navigate an environment that it has only partial information about. It assumes a robust target recognition, obstacle detection and robot localisation system.  These will need to be built in order to work.\n"
   ]
  },
  {
   "cell_type": "markdown",
   "metadata": {},
   "source": [
    "### Extended Kalman Filter: \n",
    "This is a toy implementation of an extended kalman filter for systematic rover localization using a collection of sensors. We will simplify the case to 2D. \n"
   ]
  },
  {
   "cell_type": "markdown",
   "metadata": {},
   "source": [
    "### The General form of a kalman filter\n",
    "#### Predict \n",
    "Assuming an unknown control input (might change this later). We use the current state of the rover to predict how it will change into the future. This state estimate will be fused with extra sensor information later. \n",
    "State estimate:\n",
    "$$\n",
    "\\varkappa_{i+1|i} = F_{i|i} \\varkappa_{i|i}  \n",
    "$$\n",
    "Error covariance: \n",
    "$$\n",
    "P_{i+1|i} = F_{i|i} P_{i|i}F_{i|i}^T +Q_i\n",
    "$$"
   ]
  },
  {
   "cell_type": "markdown",
   "metadata": {},
   "source": [
    "The subscripts denote the step which that estimate refers to and the step which the sensor information comes from respectively. As you can see above they are _predictions_ based on propagating the state from the previous step. And do not integrate any sensor data yet. \n",
    "##### Update:\n",
    "The Kalman filter then does some other stuff. \n",
    "$$\n",
    "\\bar{y}_{i+1} = z_{i+1} - H_{i+1} \\varkappa_{i+1|i}\n",
    "$$\n",
    "\n",
    "$$\n",
    "S_{i+1} = H_{i+1} P_{i+1|i}H_{i+1}^T + R_{i+1}\n",
    "$$\n",
    "\n",
    "$$\n",
    "K_{i+1} = P_{i+1|i}H_{i+1}^T S^{-1}_{i+1}\n",
    "$$\n",
    "\n",
    "$$\n",
    "\\varkappa_{i+1|i+1} = \\varkappa_{i+1|i} + K_{i+1} \\bar{y}_{i+1} \n",
    "$$\n",
    "\n",
    "$$\n",
    "P_{i+1|i+1} = (I-K_{i+1}H_{i+1})P_{i+1|i}\n",
    "$$\n",
    "\n",
    "$$\n",
    "\\bar{y}_{i+1|i+1}  = z_{i+1} - H_{i+1} \\varkappa_{i+1|i+1}\n",
    "$$"
   ]
  },
  {
   "cell_type": "markdown",
   "metadata": {},
   "source": [
    "And thats it! The remaining analysis and work is to estimate a few of the matrices introduced withou context above. First we want to create an estimate of the $F_{i|i}$ matrix. It represents a linear mapping of the previous state to the current one. "
   ]
  },
  {
   "cell_type": "markdown",
   "metadata": {},
   "source": [
    "To streamline this process of implementing a EKF (which is more advanced than the filter described here) we will borrow a prior toy implementation of a very similar problem from the widely used, cited and loved repo https://atsushisakai.github.io/PythonRobotics/. I cannot recommend this resource highly enough. Much of the ekf and pose control that follows is directly taken (with some modification) from this repo. \n",
    "\n"
   ]
  },
  {
   "cell_type": "markdown",
   "metadata": {},
   "source": [
    "I'll skip over the details of the implementation of the filter for our purposes and simply leave the python robotics explanation unmolested. The main change to be made to their implementation of an ekf is the process of how the input is computed. We need to make our rover drive over the path that a-star has specified for us. "
   ]
  },
  {
   "cell_type": "markdown",
   "metadata": {},
   "source": [
    "The next thing we need is a model that will generate a control effort based on the current pose of the rover, and its desired pose. Once we have a strong estimation of the rovers pose in 3D we will use the following method to output a desireable actual motion in 2d to move the rover towards the goal. "
   ]
  },
  {
   "cell_type": "code",
   "execution_count": 177,
   "metadata": {},
   "outputs": [],
   "source": [
    "def move_to_pose_step(curr,goal):\n",
    "    \"\"\"\n",
    "    This is a simplified version of the 'move_to_pose' routine with\n",
    "    the key difference that this one is meant to be run in the loop with\n",
    "    other functions operating around it.\n",
    "    \"\"\"\n",
    "    Kp_rho = 9\n",
    "    Kp_alpha = 15\n",
    "    Kp_beta = -3\n",
    "    dt = 0.01\n",
    "\n",
    "    x = curr.x\n",
    "    y = curr.y\n",
    "    theta = curr.theta\n",
    "    theta_goal = goal.theta\n",
    "    x_diff = goal.x - x\n",
    "    y_diff = goal.y - y\n",
    "\n",
    "    x_traj, y_traj = [], []\n",
    "\n",
    "    rho = np.sqrt(x_diff**2 + y_diff**2)\n",
    "\n",
    "    # Restrict alpha and beta (angle differences) to the range\n",
    "    # [-pi, pi] to prevent unstable behavior e.g. difference going\n",
    "    # from 0 rad to 2*pi rad with slight turn\n",
    "\n",
    "    rho = np.sqrt(x_diff**2 + y_diff**2)\n",
    "    alpha = (np.arctan2(y_diff, x_diff)\n",
    "             - theta + np.pi) % (2 * np.pi) - np.pi\n",
    "    beta = (theta_goal - theta - alpha + np.pi) % (2 * np.pi) - np.pi\n",
    "\n",
    "    v = Kp_rho * rho\n",
    "    w = Kp_alpha * alpha + Kp_beta * beta\n",
    "\n",
    "    if alpha > np.pi / 2 or alpha < -np.pi / 2:\n",
    "        v = -v\n",
    "    return [v,w]"
   ]
  },
  {
   "cell_type": "markdown",
   "metadata": {},
   "source": [
    "The following routine updates the state of the rover so that a ground truth can be established. The imported ekf will then estimate the state of the rover through simulated noisey sensors.  "
   ]
  },
  {
   "cell_type": "code",
   "execution_count": 178,
   "metadata": {},
   "outputs": [],
   "source": [
    "def update(current,u,w,dt):\n",
    "    current.theta = current.theta + w*dt\n",
    "    current.x = current.x + u*np.cos(current.theta) * dt\n",
    "    current.y = current.y + u*np.sin(current.theta) * dt\n"
   ]
  },
  {
   "cell_type": "markdown",
   "metadata": {},
   "source": [
    "With all of these components introduced, lets try driving our rover from one position to another. We will create three instances of the rover class, one that represents the desired state, one that represents the true state, and one that represents the desired state. "
   ]
  },
  {
   "cell_type": "code",
   "execution_count": 179,
   "metadata": {},
   "outputs": [],
   "source": [
    "import pose_control\n",
    "start= [0.0, 0.0, np.pi/4.0]\n",
    "end = [10.0, 10.0,np.pi]\n",
    "goal_rover_pose = rover(end[0],end[1],end[2])\n",
    "true_rover_pose = rover(start[0],start[1],start[2])\n",
    "est_rover_pose = rover(start[0],start[1],start[2])\n",
    "dt = 0.01\n",
    "[v,w] = move_to_pose_step(est_rover_pose, goal_rover_pose)\n",
    "update(true_rover_pose,v,w,dt)\n",
    "\n",
    "x_pos = []\n",
    "y_pos = []"
   ]
  },
  {
   "cell_type": "code",
   "execution_count": 180,
   "metadata": {},
   "outputs": [
    {
     "data": {
      "image/png": "[encoded data removed]",
      "text/plain": [
       "<Figure size 432x288 with 1 Axes>"
      ]
     },
     "metadata": {},
     "output_type": "display_data"
    }
   ],
   "source": [
    "while(abs(true_rover_pose.x-goal_rover_pose.x)>0.1 or abs(true_rover_pose.y-goal_rover_pose.y)>0.1):\n",
    "\n",
    "    x_pos.append(true_rover_pose.x)\n",
    "    y_pos.append(true_rover_pose.y)\n",
    "    [v,w] = move_to_pose_step(true_rover_pose, goal_rover_pose)\n",
    "    update(true_rover_pose,v,w,dt)\n",
    "\n",
    "plt.cla()\n",
    "plt.arrow(start[0],start[1], np.cos(start[2]),\n",
    "          np.sin(start[2]), color='r', width=0.1)\n",
    "plt.arrow(end[0], end[1], np.cos(end[2]),\n",
    "          np.sin(end[2]), color='g', width=0.1)\n",
    "pose_control.plot_vehicle(start[0],start[1],0,x_pos,y_pos)"
   ]
  },
  {
   "cell_type": "markdown",
   "metadata": {},
   "source": [
    "The next step is to integrate sampling from the sensors and ekf integration and use that as the state estimate rather than simply passing in the true state."
   ]
  },
  {
   "cell_type": "code",
   "execution_count": 181,
   "metadata": {},
   "outputs": [],
   "source": [
    "import ekf"
   ]
  },
  {
   "cell_type": "markdown",
   "metadata": {},
   "source": [
    "Resetting the state of the rover. "
   ]
  },
  {
   "cell_type": "markdown",
   "metadata": {},
   "source": [
    "Now we need to set up a loop that uses the EKF to repeatedly estimate the state of the rover, and then use that for rover postion estimation and therefore velocity and rotation generation. "
   ]
  },
  {
   "cell_type": "code",
   "execution_count": 182,
   "metadata": {},
   "outputs": [
    {
     "data": {
      "image/png": "[encoded data removed]",
      "text/plain": [
       "<Figure size 432x288 with 1 Axes>"
      ]
     },
     "metadata": {},
     "output_type": "display_data"
    }
   ],
   "source": [
    "start= [0.0, 0.0, np.pi/4.0]\n",
    "end = [10.0, 10.0,np.pi]\n",
    "v = 0 # inital velocity is zero\n",
    "goal_rover_pose = rover(end[0],end[1],end[2])\n",
    "true_rover_pose = rover(start[0],start[1],start[2])\n",
    "est_rover_pose = rover(start[0],start[1],start[2])\n",
    "\n",
    "PEst = np.eye(4)\n",
    "\n",
    "xDR = np.zeros((4, 1))  # Dead reckoning\n",
    "state_est = np.zeros((4,1))\n",
    "state_true = np.zeros((4,1))\n",
    "# history\n",
    "hxEst = state_est\n",
    "hxTrue = state_true\n",
    "hxDR = state_true\n",
    "hz = np.zeros((2, 1))\n",
    "\n",
    "error_move = abs(true_rover_pose.x-goal_rover_pose.x) + abs(true_rover_pose.y-goal_rover_pose.y)\n",
    "\n",
    "ekf.DT = 0.01\n",
    "while (error_move>0.5):\n",
    "    est_rover_pose.updatestate(state_est)\n",
    "    true_rover_pose.updatestate(state_true)\n",
    "\n",
    "    [v,w] = move_to_pose_step(est_rover_pose, goal_rover_pose)\n",
    "    \n",
    "    u = np.array([v, w])\n",
    "    \n",
    "    state_true, z, xDR, ud = ekf.observation(state_true, xDR, u)\n",
    "\n",
    "    state_est, PEst = ekf.ekf_estimation(state_est, PEst, z, ud)\n",
    "\n",
    "    # store data history\n",
    "    hxEst = np.hstack((hxEst, state_est))\n",
    "    hxDR = np.hstack((hxDR, xDR))\n",
    "    hxTrue = np.hstack((hxTrue, state_true))\n",
    "    hz = np.hstack((hz, z))\n",
    "    error_move = abs(true_rover_pose.x-goal_rover_pose.x) + abs(true_rover_pose.y-goal_rover_pose.y)\n",
    "plt.cla()\n",
    "plt.plot(hz[0, :], hz[1, :], \".g\")\n",
    "plt.plot(hxTrue[0, :].flatten(),\n",
    "         hxTrue[1, :].flatten(), \"-b\")\n",
    "plt.plot(hxDR[0, :].flatten(),\n",
    "         hxDR[1, :].flatten(), \"-k\")\n",
    "plt.plot(hxEst[0, :].flatten(),\n",
    "         hxEst[1, :].flatten(), \"-r\")\n",
    "ekf.plot_covariance_ellipse(state_est, PEst)\n",
    "plt.axis(\"equal\")\n",
    "plt.grid(True)\n",
    "plt.pause(0.0001)\n",
    "    "
   ]
  },
  {
   "cell_type": "markdown",
   "metadata": {},
   "source": [
    "## All together now.\n",
    "Now that we have a localization and control algorithm we have developed a way to move the rover from one known location. To another known location. The discrete assumption we made above whereby the rover would \"jump\" from one perfect location in the onboard grid to another can now be discarded. With a few extensions to the algorithm we can pathfind a rover that operates in continuous space on a *discrete* grid. Like it will have to in the real world. \n",
    "\n",
    "We will proceed assuming the tennis ball is 100m away from the start and the grid resolution is some tuneable constant. The rover will have an estimated pose in terms of x y and theta. And will localize itself in the grid using that estimate. A-star will then run and provide a path forward, the rover will then steer itself towards the center of that target grid square. And re run the scanning algorithm. In order to facilitate this we will have to create a few new utilites.      "
   ]
  },
  {
   "cell_type": "code",
   "execution_count": 183,
   "metadata": {},
   "outputs": [],
   "source": [
    "def scan(rover,obstacles,ball,cell_s):\n",
    "    for item in obstacles:\n",
    "        dy = rover.y-item[1]\n",
    "        dx = rover.x-item[0]\n",
    "        if abs(dx)+abs(dy)<10:\n",
    "            vec = math.atan2(dy,dx)\n",
    "            if rover.theta-np.pi/6<vec<rover.theta+np.pi/6:\n",
    "                ## add it to the map!\n",
    "                applyGaussianToField(rover.world,*item)\n",
    "        dy = rover.y-ball[1]\n",
    "        dx = rover.x-ball[0]\n",
    "        if abs(dx)+abs(dy)<10:\n",
    "            vec = math.atan2(dy,dx)\n",
    "            if rover.theta-np.pi/6<vec<rover.theta+np.pi/6:\n",
    "                ## add it to the map!\n",
    "                applyGaussianToField(rover.world,-70,rover.x*cell_s[0],rover.y*cell_s[1],dx**2+dy**2)"
   ]
  },
  {
   "cell_type": "code",
   "execution_count": 184,
   "metadata": {
    "scrolled": true
   },
   "outputs": [
    {
     "data": {
      "image/png": "[encoded data removed]",
      "text/plain": [
       "<Figure size 432x288 with 1 Axes>"
      ]
     },
     "metadata": {},
     "output_type": "display_data"
    }
   ],
   "source": [
    "cell_size = (1,1)\n",
    "ball_location = (20,20) # The actual position of the ball in metres.\n",
    "\n",
    "unknown_obstacles = [ ( 10, random.randint(0, ball_location[1]),random.randint(0, ball_location[1]),5) for k in range(10)]\n",
    "# unknown_o\n",
    "\n",
    "\n",
    "## General variables\n",
    "start= [0.0, 0.0, np.pi/4.0]\n",
    "end = [10.0, 10.0,np.pi]\n",
    "v = 0 # inital velocity is zero\n",
    "goal_rover_pose = rover(end[0],end[1],end[2])\n",
    "true_rover_pose = rover(start[0],start[1],start[2])\n",
    "est_rover_pose = rover(start[0],start[1],start[2])\n",
    "error = abs(est_rover_pose.x-ball_location[0]) + abs(est_rover_pose.y-ball_location[1])\n",
    "est_rover_pose.world = Initialise_tennis_ball_search(int(ball_location[0]/cell_size[0]),int(ball_location[1]/cell_size[1]))\n",
    "\n",
    "## EKf variables\n",
    "PEst = np.eye(4)\n",
    "\n",
    "xDR = np.zeros((4, 1))  # Dead reckoning\n",
    "state_est = np.zeros((4,1))\n",
    "state_true = np.zeros((4,1))\n",
    "# history\n",
    "hxEst = state_est\n",
    "hxTrue = state_true\n",
    "hxDR = state_true\n",
    "hz = np.zeros((2, 1))\n",
    "T = 0\n",
    "dt = 0.01\n",
    "xpos = []\n",
    "ypos = []\n",
    "curr_path = []\n",
    "while(error>0.5):\n",
    "    T = T + dt\n",
    "    if T>10:\n",
    "        break\n",
    "    gridx, gridy = [int(est_rover_pose.x*cell_size[0]),int(est_rover_pose.y*cell_size[1])]\n",
    "    xpos.append(gridx)\n",
    "    ypos.append(gridy)\n",
    "    roverLoc = (gridx,gridy)\n",
    "    ## Plan over the grid by scanning then using a-star\n",
    "    scan(est_rover_pose,unknown_obstacles,ball_location,cell_size)\n",
    "    min_y, min_x = np.argwhere(est_rover_pose.world == np.min(est_rover_pose.world))[0]\n",
    "\n",
    "    curr_path = a_star(est_rover_pose.world,roverLoc,(min_x,min_y))\n",
    "    if len(curr_path) == 2:\n",
    "        break\n",
    "    goal_rover_pose.x = curr_path[1][0]*cell_size[0]\n",
    "    goal_rover_pose.y = curr_path[1][1]*cell_size[1]\n",
    "    dx = curr_path[2][0] - curr_path[1][0]\n",
    "    dy = curr_path[2][1] - curr_path[1][1]\n",
    "    goal_rover_pose.theta = math.atan2(dy,dx)\n",
    "    est_rover_pose.updatestate(state_est)\n",
    "    true_rover_pose.updatestate(state_true)\n",
    "\n",
    "    [v,w] = move_to_pose_step(est_rover_pose, goal_rover_pose)\n",
    "\n",
    "    u = np.array([v, w])\n",
    "\n",
    "    state_true, z, xDR, ud = ekf.observation(state_true, xDR, u)\n",
    "\n",
    "    state_est, PEst = ekf.ekf_estimation(state_est, PEst, z, ud)\n",
    "\n",
    "    # store data history\n",
    "    hxEst = np.hstack((hxEst, state_est))\n",
    "    hxDR = np.hstack((hxDR, xDR))\n",
    "    hxTrue = np.hstack((hxTrue, state_true))\n",
    "    hz = np.hstack((hz, z))\n",
    "\n",
    "    error = abs(est_rover_pose.x-ball_location[0]) + abs(est_rover_pose.y-ball_location[1])\n",
    "plt.cla()\n",
    "plt.plot(hz[0, :], hz[1, :], \".g\")\n",
    "plt.plot(hxTrue[0, :].flatten(),\n",
    "         hxTrue[1, :].flatten(), \"-b\")\n",
    "plt.plot(hxDR[0, :].flatten(),\n",
    "         hxDR[1, :].flatten(), \"-k\")\n",
    "plt.plot(hxEst[0, :].flatten(),\n",
    "         hxEst[1, :].flatten(), \"-r\")\n",
    "ekf.plot_covariance_ellipse(state_est, PEst)\n",
    "plt.axis(\"equal\")\n",
    "plt.grid(True)\n",
    "plt.pause(0.0001)"
   ]
  },
  {
   "cell_type": "code",
   "execution_count": 185,
   "metadata": {},
   "outputs": [
    {
     "data": {
      "image/png": "[encoded data removed]",
      "text/plain": [
       "<Figure size 432x288 with 1 Axes>"
      ]
     },
     "metadata": {},
     "output_type": "display_data"
    }
   ],
   "source": [
    "plt.imshow(est_rover_pose.world, cmap='hot', interpolation='nearest')\n",
    "plt.plot(ball_location[0],ball_location[1],\"ro\",color = \"Green\")\n",
    "plt.plot(xpos,ypos)\n",
    "plt.show()"
   ]
  },
  {
   "cell_type": "code",
   "execution_count": null,
   "metadata": {},
   "outputs": [],
   "source": []
  }
 ],
 "metadata": {
  "kernelspec": {
   "display_name": "Python 3",
   "language": "python",
   "name": "python3"
  },
  "language_info": {
   "codemirror_mode": {
    "name": "ipython",
    "version": 3
   },
   "file_extension": ".py",
   "mimetype": "text/x-python",
   "name": "python",
   "nbconvert_exporter": "python",
   "pygments_lexer": "ipython3",
   "version": "3.6.8"
  }
 },
 "nbformat": 4,
 "nbformat_minor": 4
}
