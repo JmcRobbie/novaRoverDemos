{
 "cells": [
  {
   "cell_type": "markdown",
   "metadata": {},
   "source": [
    "# A demonstration of the autonomous decision making system"
   ]
  },
  {
   "cell_type": "markdown",
   "metadata": {},
   "source": [
    "### The intent of this notebook is to demonstrate the use of a decision making system for the Nova Rover. In order to do this we need to: \n",
    "1. Simulate the rover's motion and detections in a simulated environment.\n",
    "2. Simulate detected obstacles and targets\n",
    "3. Demonstrate decision making system that avoids "
   ]
  },
  {
   "cell_type": "code",
   "execution_count": 1,
   "metadata": {},
   "outputs": [],
   "source": [
    "import numpy as np\n",
    "import math\n",
    "import matplotlib.pyplot as plt\n",
    "\n",
    "class rover:\n",
    "    def __init__(self):\n",
    "        # Initial conditions selected arbitrarily\n",
    "        self.x = 0\n",
    "        self.y = 0 \n",
    "        self.theta = 0\n",
    "        self.world = np.zeros((100,100))\n",
    "    def moveToPosition(self,new_x,new_y):\n",
    "        self.x = new_x\n",
    "        self.y = new_y\n",
    "    "
   ]
  },
  {
   "cell_type": "markdown",
   "metadata": {},
   "source": [
    "Now that the class of the rover has been defined, we will implement an a* based pathfinding algorithm to search over the known grid. \n",
    "We begin by defining a grid that exists as the rovers main knowledge base. Called World ($W$)\n",
    "Where, $W$ is a 2D array used to denote the \"threat\" or \"opportunity\" level of the grid square. All grid sqaures correspond to real world positions, each grid square has width $w$, which can be tuned for the application. \n",
    "\n",
    "Each cell has a value $W_{x,y} \\in \\mathbb{R}$ \n",
    "\n",
    "Lower values are an opportunity, Higher values are a threat. \n",
    "The algorithm for searching the space works as follows.\n",
    "1. **Initialise** If the rover has just begun a new search for a target (could be a tennis ball) then initialise the array with the following. If this is not true skip this step. \n",
    "    1. Generate an array of zeros with height and width defined by the distance between the target and the rover as estimated by the rovers localization algorithm and the competition supplied gps coordinates. Ensure sufficient for overshoot. For example if it is $X$ m to the tennis ball and square width is defined as $w$ then $n = \\frac{X}{w}$ is the height and width of the array. \n",
    "    2. Place a guassian function at the tennis ball gps location with amplitude $A = -1$ and each cell within range $3 \\sigma$ from the centre calculate its value from that guassian. \n",
    "    \n"
   ]
  },
  {
   "cell_type": "code",
   "execution_count": 2,
   "metadata": {
    "scrolled": true
   },
   "outputs": [
    {
     "data": {
      "image/png": "[encoded data removed]",
      "text/plain": [
       "<Figure size 432x288 with 1 Axes>"
      ]
     },
     "metadata": {
      "needs_background": "light"
     },
     "output_type": "display_data"
    }
   ],
   "source": [
    "## Initialisation routine example in python. \n",
    "\n",
    "def normpdf(x, mean, sd):\n",
    "    var = float(sd)**2\n",
    "    denom = (2*math.pi*var)**.5\n",
    "    num = math.exp(-(float(x)-float(mean))**2/(2*var))\n",
    "    return num/denom\n",
    "def applyGaussianToField(field,weight,x,y,sigma):\n",
    "    for i in range(x-3*sigma,x+3*sigma):\n",
    "        for j in range(y-3*sigma,y+3*sigma):            \n",
    "            cart_distance = math.sqrt((x-i)**2 +(y-j)**2)\n",
    "            if i in set(range(0,field.shape[0])) and j in set(range(0, field.shape[1])):\n",
    "                field[i,j] = weight* normpdf(cart_distance,0,sigma) +field[i,j] \n",
    "    return field\n",
    "def Initialise_tennis_ball_search():\n",
    "    suspectedLocation = [50,50]\n",
    "    roverLocation = [0,0]\n",
    "    width = 1 # width of a grid cell = 0.1m (tuneable)\n",
    "    sigma = 5 # standard deviation of the guassian\n",
    "    fudgeFactor =1.5 ## Tuneable!\n",
    "    x_size = int (fudgeFactor*(suspectedLocation[0]-roverLocation[0])+ 1)\n",
    "    y_size = int (fudgeFactor*(suspectedLocation[1]-roverLocation[1])+ 1)\n",
    "    RoverWorld = np.ones((x_size,y_size))\n",
    "    \n",
    "    RoverWorld = applyGaussianToField(RoverWorld,-20.0,suspectedLocation[0],suspectedLocation[1],5)\n",
    "    return RoverWorld\n",
    "\n",
    "\n",
    "arr = Initialise_tennis_ball_search()\n",
    "plt.imshow(arr, cmap='hot', interpolation='nearest')\n",
    "plt.show()"
   ]
  },
  {
   "cell_type": "markdown",
   "metadata": {},
   "source": [
    "This is what the rover will know about the world when it first starts up, it will identify the cell of highest interest (Lowest cell index value) and use a minimum cost pathfinding approach\n",
    "2. **Remap** the rover will scan the environment with its sensors and re update the map using its current estimates. \n",
    "    1. Detect any obstacles and/or opportunities with a certain confidence level $p$ and with a certain confidence on the localisation $\\sigma_ij$. \n",
    "    2. Update the _RoverWorld_ map with the targets and opportunities, scaling them appropriately based on cost. \n",
    "3. **Pathfind** Once the map has been updated, recompute the path forward using the new information. \n",
    "4. **Move** and iterate the process. \n"
   ]
  },
  {
   "cell_type": "code",
   "execution_count": 3,
   "metadata": {},
   "outputs": [],
   "source": [
    "# Defining obstacles notation x position y position size\n",
    "obstacles = [(100,20,20,5),(100,20,40,5),(200,40,20,10)]\n"
   ]
  },
  {
   "cell_type": "code",
   "execution_count": 4,
   "metadata": {},
   "outputs": [
    {
     "data": {
      "image/png": "[encoded data removed]",
      "text/plain": [
       "<Figure size 432x288 with 1 Axes>"
      ]
     },
     "metadata": {
      "needs_background": "light"
     },
     "output_type": "display_data"
    }
   ],
   "source": [
    "for obstacle in obstacles:\n",
    "    arr = applyGaussianToField(arr,*obstacle)\n",
    "    \n",
    "plt.imshow(arr, cmap='hot', interpolation='nearest')\n",
    "plt.show()"
   ]
  },
  {
   "cell_type": "markdown",
   "metadata": {},
   "source": [
    "This is an example of how the world will hopefully look from the perspective of the Rover while it is navigating. The remaining task is to pathfind over that graph. We will use the astar algorithm developed by MSP for the 2018 rover to accomplish this. See code below (however, the datails are not super relevant for our purposes here). "
   ]
  },
  {
   "cell_type": "markdown",
   "metadata": {},
   "source": [
    "Before anything else we need to select an objective of the rover, for simplicity we will use the minimum of the graph, something more complex (intelligent) could concievably be used though. "
   ]
  },
  {
   "cell_type": "code",
   "execution_count": 5,
   "metadata": {},
   "outputs": [],
   "source": [
    "from math import sqrt, inf\n",
    "from itertools import product\n",
    "\n",
    "def euclidean_heuristic_cost(curr, end):\n",
    "    \"\"\"\n",
    "    Estimates cost from curr (x0,y0) to end (x1,y1) using Euclidean\n",
    "    distance.\n",
    "    \"\"\"\n",
    "    currx, curry = curr\n",
    "    endx, endy = end\n",
    "    return sqrt((currx-endx)**2 + (curry-endy)**2)\n",
    "\n",
    "def reconstruct_path_to_destination(prev, end):\n",
    "    \"\"\"\n",
    "    Constructs an in-order sequence of (x,y) coordinates (list of tuples)\n",
    "    to the end destination using the mapping from nodes to their predecessors\n",
    "    (prev).\n",
    "    \"\"\"\n",
    "    path = [end]\n",
    "    curr = end\n",
    "    while curr in prev.keys():\n",
    "        curr = prev[curr]\n",
    "        path.insert(0, curr)\n",
    "    return path\n",
    "\n",
    "def get_successors(node, grid):\n",
    "    \"\"\"\n",
    "    The neighbors of a cell (node) in the grid are the 8-surrounding cells.\n",
    "    \"\"\"\n",
    "    successors = []\n",
    "\n",
    "    nodex, nodey = node\n",
    "    n_rows = len(grid)\n",
    "    n_cols = len(grid[0])\n",
    "\n",
    "    for dx, dy in product([-1,0,1],[-1,0,1]):\n",
    "        # skip the current node itself\n",
    "        if (dx == 0 and dy == 0):\n",
    "            continue\n",
    "\n",
    "        x = nodex + dx\n",
    "        y = nodey + dy\n",
    "\n",
    "        # skip successors that would take us off the edge of the grid\n",
    "        if not (0 <= x < n_rows or 0 <= y < n_cols): continue\n",
    "\n",
    "        cost = grid[x][y]\n",
    "\n",
    "        successors.append( ((x, y), cost) )\n",
    "\n",
    "    return successors\n",
    "\n",
    "def node_with_min_fscore(open_set, f_cost): # open_set is a set (of cell) and f_cost is a dict (with cells as keys) \n",
    "    \"\"\"\n",
    "    Find the cell in open set with the smallest f score.\n",
    "    \"\"\"\n",
    "    f_cost_open = dict([a for a in f_cost.items() if a[0] in open_set])\n",
    "    return min(f_cost_open, key=f_cost_open.get)\n",
    "\n",
    "def a_star(grid, start, end, heuristic_cost=euclidean_heuristic_cost):\n",
    "    \"\"\"\n",
    "    Implementation of A Star over a 2D grid. Returns a list of waypoints\n",
    "    as a list of (x,y) tuples.\n",
    "\n",
    "    Input:\n",
    "    : grid, 2D matrix\n",
    "    : start, (x,y) tuple, start position\n",
    "    : end, (x,y) tuple, end destination\n",
    "\n",
    "    Output:\n",
    "    : waypoints, list of (x,y) tuples\n",
    "    \"\"\"\n",
    "    # the set of cells already evaluated\n",
    "    closed_set = set()\n",
    "\n",
    "    # the set of cells already discovered\n",
    "    open_set = set()\n",
    "    open_set.add(start)\n",
    "\n",
    "    # for each cell, mapping to its least-cost incoming cell\n",
    "    prev = {}\n",
    "   \n",
    "    # for each node, cost of reaching it from start (g_cost) \n",
    "    # for each node, cost of getting from start to dest via that node (f_cost)\n",
    "    #   note: cell->dest component of f_cost will be estimated using a heuristic\n",
    "    g_cost = {}\n",
    "    f_cost = {}\n",
    "    for r in range(len(grid)):\n",
    "        for c in range(len(grid[0])):\n",
    "            cell = (r, c)\n",
    "            g_cost[cell] = inf\n",
    "            f_cost[cell] = inf\n",
    "    g_cost[start] = 0\n",
    "    f_cost[start] = heuristic_cost(start, end)\n",
    "\n",
    "    while open_set:\n",
    "        # node in open set with min fscore\n",
    "        curr = node_with_min_fscore(open_set, f_cost)\n",
    "        \n",
    "        # if we've reached the destination\n",
    "        if curr == end:\n",
    "            return reconstruct_path_to_destination(prev, curr)\n",
    "\n",
    "        open_set.remove(curr)\n",
    "        closed_set.add(curr)\n",
    "        \n",
    "        for neighbor, cost in get_successors(curr, grid):\n",
    "            # ignore neighbors which have already been evaluated\n",
    "            if neighbor in closed_set:\n",
    "                continue\n",
    "\n",
    "            curr_g_score =  g_cost[curr] + cost\n",
    "            # add neighbor to newly discovered nodes\n",
    "            if neighbor not in open_set:\n",
    "                open_set.add(neighbor)\n",
    "\n",
    "            # if we've already got a lower g_score for neighbor, then move on\n",
    "            elif curr_g_score >= g_cost[neighbor]:\n",
    "                continue\n",
    "\n",
    "            prev[neighbor] = curr\n",
    "            g_cost[neighbor] = curr_g_score\n",
    "            f_cost[neighbor] = g_cost[neighbor] + heuristic_cost(neighbor, end)\n",
    "\n",
    "    # if we get to this point, it's not possible to reach the end destination\n",
    "    return []\n"
   ]
  },
  {
   "cell_type": "code",
   "execution_count": null,
   "metadata": {},
   "outputs": [],
   "source": []
  },
  {
   "cell_type": "code",
   "execution_count": 6,
   "metadata": {},
   "outputs": [],
   "source": [
    "min_index = np.argwhere(arr == np.min(arr))\n",
    "path = a_star(arr,(0,0),(min_index[0][0],min_index[0][1])) "
   ]
  },
  {
   "cell_type": "markdown",
   "metadata": {},
   "source": [
    "We now have a path from the beginning point (0,0) to the end target point (50,50). For simplicity we are assuming that the target is exactly at the place where it is most likely to be. Obviously this does not reflect reality, but we will build to that. The next step is to superimpose the path onto a plot of the grid of threats and opportunities to show that it is navigating appropriately. "
   ]
  },
  {
   "cell_type": "code",
   "execution_count": 7,
   "metadata": {},
   "outputs": [
    {
     "data": {
      "image/png": "[encoded data removed]",
      "text/plain": [
       "<Figure size 432x288 with 1 Axes>"
      ]
     },
     "metadata": {
      "needs_background": "light"
     },
     "output_type": "display_data"
    }
   ],
   "source": [
    "x_pos = []\n",
    "y_pos = []\n",
    "for x in path:\n",
    "    x_pos.append(x[0])\n",
    "    y_pos.append(x[1])\n",
    "plt.plot(x_pos,y_pos)\n",
    "plt.imshow(arr, cmap='hot', interpolation='nearest')\n",
    "plt.show()"
   ]
  },
  {
   "cell_type": "markdown",
   "metadata": {},
   "source": [
    "***????**\n",
    "\n",
    "Now that we have tackled the problem of searching over a known field we need to address the more pressing challenge. Pathfinding over a unknown field. As described above, the strategy will be to update the map that we are pathfinding over, and then run a* on that. For simplicity we will simply say that the rover takes the next position identified by the a star pathfinding algorithm, and then rescans the environment and repeats the process."
   ]
  },
  {
   "cell_type": "code",
   "execution_count": 8,
   "metadata": {},
   "outputs": [
    {
     "data": {
      "image/png": "[encoded data removed]",
      "text/plain": [
       "<Figure size 432x288 with 1 Axes>"
      ]
     },
     "metadata": {
      "needs_background": "light"
     },
     "output_type": "display_data"
    }
   ],
   "source": [
    "rover_init_postion = (0,0)\n",
    "ball_location = (53,51) # The actual position of the ball. \n",
    "roverWorld = Initialise_tennis_ball_search()\n",
    "\n",
    "plt.imshow(roverWorld, cmap='hot', interpolation='nearest')\n",
    "min_index = np.argwhere(roverWorld == np.min(roverWorld))\n",
    "path_new = a_star(roverWorld,(0,0),(min_index[0][0],min_index[0][1]))\n",
    "x_pos = []\n",
    "y_pos = []\n",
    "for x in path_new:\n",
    "    x_pos.append(x[0])\n",
    "    y_pos.append(x[1])\n",
    "plt.plot(x_pos,y_pos)\n",
    "plt.plot(ball_location[0],ball_location[1],\"ro\")\n",
    "plt.show()"
   ]
  },
  {
   "cell_type": "markdown",
   "metadata": {},
   "source": [
    "This the first step in the loop, the red dot on the graph represents the actual position of the tennis ball. To make things more challenging we will add 50 obstacles dotted throughout the region, generated randomly."
   ]
  },
  {
   "cell_type": "markdown",
   "metadata": {},
   "source": [
    "We then need to simulate the detection of these obstacles and targets. \n",
    "\n",
    "To do this we will use either random or user generated obstacle lists, when the rover is within a certain range of these obstacles the rover adds them to the map. A similar thing happens with the tennis ball, when it is within range the location of the tennis ball is set to be a place of high interest that the rover can navigate to. \n",
    "\n",
    "Randomly generating obstacles can be done but they wont necessarily get placed anywhere interesting, so the use can choose to drop them exactly in the path of the rover and then re run the notebook. This leads to more interesting behaviour. "
   ]
  },
  {
   "cell_type": "code",
   "execution_count": 9,
   "metadata": {},
   "outputs": [],
   "source": [
    "import random \n",
    "random.seed()\n",
    "unknown_obstacles = [ ( random.randint(0, 70), random.randint(0, 70) ) for k in range(10) ]\n",
    "unknown_obstacles = [(4,40),(55,30)]\n",
    "\n",
    "unknown = set(unknown_obstacles)\n",
    "\n",
    "roverLoc = rover_init_postion\n",
    "def scan(known,obs,pos,tenLoc):\n",
    "    new = known\n",
    "    pos_x, pos_y = pos\n",
    "    n_rows = len(known)\n",
    "    n_cols = len(known[0])   \n",
    "    for dx, dy in product([-2,-1,0,1,2],[-2,-1,0,1,2]):\n",
    "        x = pos_x + dx\n",
    "        y = pos_y + dy\n",
    "        dist = dx**2 + dy**2\n",
    "        # skip successors that would take us off the edge of the grid\n",
    "        if not (0 <= x < n_rows or 0 <= y < n_cols): continue\n",
    "\n",
    "        if (x,y) in obs:\n",
    "            new = applyGaussianToField(new,100.0/dist,y,x,1*dist)\n",
    "            if (x,y) == tenLoc:\n",
    "                new = applyGaussianToField(new,-20.0/dist,y,x,1*dist)\n",
    "        \n",
    "        elif (x,y) == tenLoc:\n",
    "            new = applyGaussianToField(new,-20.0/dist,y,x,1*dist)\n",
    "        \n",
    "        else:\n",
    "            new[y,x] = 1\n",
    "    return new"
   ]
  },
  {
   "cell_type": "markdown",
   "metadata": {},
   "source": [
    "We will also add back the obstacles from the earlier sections to the rover map. We will tell the rover about these obstacles ahead of time, we can imagine these as simulating no-go zones that the rover will avoid based on satellite imagery analysis of the competition area.  "
   ]
  },
  {
   "cell_type": "code",
   "execution_count": 10,
   "metadata": {},
   "outputs": [
    {
     "data": {
      "image/png": "[encoded data removed]",
      "text/plain": [
       "<Figure size 432x288 with 1 Axes>"
      ]
     },
     "metadata": {
      "needs_background": "light"
     },
     "output_type": "display_data"
    }
   ],
   "source": [
    "for obstacle in obstacles:\n",
    "    roverWorld = applyGaussianToField(roverWorld,*obstacle)\n",
    "plt.imshow(roverWorld, cmap='hot', interpolation='nearest')\n",
    "plt.plot(ball_location[0],ball_location[1],\"ro\",color = \"Green\")\n",
    "plt.show()"
   ]
  },
  {
   "cell_type": "markdown",
   "metadata": {},
   "source": [
    "We can see the rovers initial understanding of the environment with the tennis ball position in green shown as well. The rover only has the rough estimate of the tennis ball position given from the rough guassian near it. It does not know the exact location of the tennis ball, only that it is most likely nearby. "
   ]
  },
  {
   "cell_type": "code",
   "execution_count": 11,
   "metadata": {},
   "outputs": [
    {
     "ename": "KeyboardInterrupt",
     "evalue": "",
     "output_type": "error",
     "traceback": [
      "\u001b[0;31m---------------------------------------------------------------------------\u001b[0m",
      "\u001b[0;31mKeyboardInterrupt\u001b[0m                         Traceback (most recent call last)",
      "\u001b[0;32m<ipython-input-11-85fe4de95572>\u001b[0m in \u001b[0;36m<module>\u001b[0;34m\u001b[0m\n\u001b[1;32m      1\u001b[0m \u001b[0;32mwhile\u001b[0m \u001b[0mroverLoc\u001b[0m \u001b[0;34m!=\u001b[0m \u001b[0mball_location\u001b[0m\u001b[0;34m:\u001b[0m\u001b[0;34m\u001b[0m\u001b[0;34m\u001b[0m\u001b[0m\n\u001b[1;32m      2\u001b[0m     \u001b[0mpath\u001b[0m\u001b[0;34m.\u001b[0m\u001b[0mappend\u001b[0m\u001b[0;34m(\u001b[0m\u001b[0mroverLoc\u001b[0m\u001b[0;34m)\u001b[0m\u001b[0;34m\u001b[0m\u001b[0;34m\u001b[0m\u001b[0m\n\u001b[0;32m----> 3\u001b[0;31m     \u001b[0mroverWorld\u001b[0m \u001b[0;34m=\u001b[0m \u001b[0mscan\u001b[0m\u001b[0;34m(\u001b[0m\u001b[0mroverWorld\u001b[0m\u001b[0;34m,\u001b[0m\u001b[0munknown\u001b[0m\u001b[0;34m,\u001b[0m\u001b[0mroverLoc\u001b[0m\u001b[0;34m,\u001b[0m\u001b[0mball_location\u001b[0m\u001b[0;34m)\u001b[0m\u001b[0;34m\u001b[0m\u001b[0;34m\u001b[0m\u001b[0m\n\u001b[0m\u001b[1;32m      4\u001b[0m     \u001b[0mmin_index\u001b[0m \u001b[0;34m=\u001b[0m \u001b[0mnp\u001b[0m\u001b[0;34m.\u001b[0m\u001b[0margwhere\u001b[0m\u001b[0;34m(\u001b[0m\u001b[0mroverWorld\u001b[0m \u001b[0;34m==\u001b[0m \u001b[0mnp\u001b[0m\u001b[0;34m.\u001b[0m\u001b[0mmin\u001b[0m\u001b[0;34m(\u001b[0m\u001b[0mroverWorld\u001b[0m\u001b[0;34m)\u001b[0m\u001b[0;34m)\u001b[0m\u001b[0;34m[\u001b[0m\u001b[0;36m0\u001b[0m\u001b[0;34m]\u001b[0m\u001b[0;34m\u001b[0m\u001b[0;34m\u001b[0m\u001b[0m\n\u001b[1;32m      5\u001b[0m \u001b[0;34m\u001b[0m\u001b[0m\n",
      "\u001b[0;32m<ipython-input-9-393ae1f416ff>\u001b[0m in \u001b[0;36mscan\u001b[0;34m(known, obs, pos, tenLoc)\u001b[0m\n\u001b[1;32m     25\u001b[0m \u001b[0;34m\u001b[0m\u001b[0m\n\u001b[1;32m     26\u001b[0m         \u001b[0;32melif\u001b[0m \u001b[0;34m(\u001b[0m\u001b[0mx\u001b[0m\u001b[0;34m,\u001b[0m\u001b[0my\u001b[0m\u001b[0;34m)\u001b[0m \u001b[0;34m==\u001b[0m \u001b[0mtenLoc\u001b[0m\u001b[0;34m:\u001b[0m\u001b[0;34m\u001b[0m\u001b[0;34m\u001b[0m\u001b[0m\n\u001b[0;32m---> 27\u001b[0;31m             \u001b[0mnew\u001b[0m \u001b[0;34m=\u001b[0m \u001b[0mapplyGaussianToField\u001b[0m\u001b[0;34m(\u001b[0m\u001b[0mnew\u001b[0m\u001b[0;34m,\u001b[0m\u001b[0;34m-\u001b[0m\u001b[0;36m20.0\u001b[0m\u001b[0;34m/\u001b[0m\u001b[0mdist\u001b[0m\u001b[0;34m,\u001b[0m\u001b[0my\u001b[0m\u001b[0;34m,\u001b[0m\u001b[0mx\u001b[0m\u001b[0;34m,\u001b[0m\u001b[0;36m1\u001b[0m\u001b[0;34m*\u001b[0m\u001b[0mdist\u001b[0m\u001b[0;34m)\u001b[0m\u001b[0;34m\u001b[0m\u001b[0;34m\u001b[0m\u001b[0m\n\u001b[0m\u001b[1;32m     28\u001b[0m \u001b[0;34m\u001b[0m\u001b[0m\n\u001b[1;32m     29\u001b[0m         \u001b[0;32melse\u001b[0m\u001b[0;34m:\u001b[0m\u001b[0;34m\u001b[0m\u001b[0;34m\u001b[0m\u001b[0m\n",
      "\u001b[0;32m<ipython-input-2-97609871f55e>\u001b[0m in \u001b[0;36mapplyGaussianToField\u001b[0;34m(field, weight, x, y, sigma)\u001b[0m\n\u001b[1;32m     10\u001b[0m         \u001b[0;32mfor\u001b[0m \u001b[0mj\u001b[0m \u001b[0;32min\u001b[0m \u001b[0mrange\u001b[0m\u001b[0;34m(\u001b[0m\u001b[0my\u001b[0m\u001b[0;34m-\u001b[0m\u001b[0;36m3\u001b[0m\u001b[0;34m*\u001b[0m\u001b[0msigma\u001b[0m\u001b[0;34m,\u001b[0m\u001b[0my\u001b[0m\u001b[0;34m+\u001b[0m\u001b[0;36m3\u001b[0m\u001b[0;34m*\u001b[0m\u001b[0msigma\u001b[0m\u001b[0;34m)\u001b[0m\u001b[0;34m:\u001b[0m\u001b[0;34m\u001b[0m\u001b[0;34m\u001b[0m\u001b[0m\n\u001b[1;32m     11\u001b[0m             \u001b[0mcart_distance\u001b[0m \u001b[0;34m=\u001b[0m \u001b[0mmath\u001b[0m\u001b[0;34m.\u001b[0m\u001b[0msqrt\u001b[0m\u001b[0;34m(\u001b[0m\u001b[0;34m(\u001b[0m\u001b[0mx\u001b[0m\u001b[0;34m-\u001b[0m\u001b[0mi\u001b[0m\u001b[0;34m)\u001b[0m\u001b[0;34m**\u001b[0m\u001b[0;36m2\u001b[0m \u001b[0;34m+\u001b[0m\u001b[0;34m(\u001b[0m\u001b[0my\u001b[0m\u001b[0;34m-\u001b[0m\u001b[0mj\u001b[0m\u001b[0;34m)\u001b[0m\u001b[0;34m**\u001b[0m\u001b[0;36m2\u001b[0m\u001b[0;34m)\u001b[0m\u001b[0;34m\u001b[0m\u001b[0;34m\u001b[0m\u001b[0m\n\u001b[0;32m---> 12\u001b[0;31m             \u001b[0;32mif\u001b[0m \u001b[0mi\u001b[0m \u001b[0;32min\u001b[0m \u001b[0mset\u001b[0m\u001b[0;34m(\u001b[0m\u001b[0mrange\u001b[0m\u001b[0;34m(\u001b[0m\u001b[0;36m0\u001b[0m\u001b[0;34m,\u001b[0m\u001b[0mfield\u001b[0m\u001b[0;34m.\u001b[0m\u001b[0mshape\u001b[0m\u001b[0;34m[\u001b[0m\u001b[0;36m0\u001b[0m\u001b[0;34m]\u001b[0m\u001b[0;34m)\u001b[0m\u001b[0;34m)\u001b[0m \u001b[0;32mand\u001b[0m \u001b[0mj\u001b[0m \u001b[0;32min\u001b[0m \u001b[0mset\u001b[0m\u001b[0;34m(\u001b[0m\u001b[0mrange\u001b[0m\u001b[0;34m(\u001b[0m\u001b[0;36m0\u001b[0m\u001b[0;34m,\u001b[0m \u001b[0mfield\u001b[0m\u001b[0;34m.\u001b[0m\u001b[0mshape\u001b[0m\u001b[0;34m[\u001b[0m\u001b[0;36m1\u001b[0m\u001b[0;34m]\u001b[0m\u001b[0;34m)\u001b[0m\u001b[0;34m)\u001b[0m\u001b[0;34m:\u001b[0m\u001b[0;34m\u001b[0m\u001b[0;34m\u001b[0m\u001b[0m\n\u001b[0m\u001b[1;32m     13\u001b[0m                 \u001b[0mfield\u001b[0m\u001b[0;34m[\u001b[0m\u001b[0mi\u001b[0m\u001b[0;34m,\u001b[0m\u001b[0mj\u001b[0m\u001b[0;34m]\u001b[0m \u001b[0;34m=\u001b[0m \u001b[0mweight\u001b[0m\u001b[0;34m*\u001b[0m \u001b[0mnormpdf\u001b[0m\u001b[0;34m(\u001b[0m\u001b[0mcart_distance\u001b[0m\u001b[0;34m,\u001b[0m\u001b[0;36m0\u001b[0m\u001b[0;34m,\u001b[0m\u001b[0msigma\u001b[0m\u001b[0;34m)\u001b[0m \u001b[0;34m+\u001b[0m\u001b[0mfield\u001b[0m\u001b[0;34m[\u001b[0m\u001b[0mi\u001b[0m\u001b[0;34m,\u001b[0m\u001b[0mj\u001b[0m\u001b[0;34m]\u001b[0m\u001b[0;34m\u001b[0m\u001b[0;34m\u001b[0m\u001b[0m\n\u001b[1;32m     14\u001b[0m     \u001b[0;32mreturn\u001b[0m \u001b[0mfield\u001b[0m\u001b[0;34m\u001b[0m\u001b[0;34m\u001b[0m\u001b[0m\n",
      "\u001b[0;31mKeyboardInterrupt\u001b[0m: "
     ]
    }
   ],
   "source": [
    "while roverLoc != ball_location:\n",
    "    path.append(roverLoc)\n",
    "    roverWorld = scan(roverWorld,unknown,roverLoc,ball_location)\n",
    "    min_index = np.argwhere(roverWorld == np.min(roverWorld))[0]\n",
    "\n",
    "    path_next = a_star(roverWorld,roverLoc,(min_index[1],min_index[0]))\n",
    "    if path_next == []:\n",
    "        roverWorld = roverWorld - 0.1\n",
    "        continue\n",
    "\n",
    "    roverLoc = path_next[1]\n",
    "\n",
    "    \n",
    "plt.imshow(roverWorld, cmap='hot', interpolation='nearest')\n",
    "plt.plot(ball_location[0],ball_location[1],\"ro\",color = \"Green\")\n",
    "x_pos = []\n",
    "y_pos = []\n",
    "for ob in unknown_obstacles:\n",
    "    plt.plot(ob[0],ob[1],\"X\",color=\"black\")\n",
    "for x in path:\n",
    "    x_pos.append(x[0])\n",
    "    y_pos.append(x[1])\n",
    "plt.plot(x_pos,y_pos)\n",
    "plt.show()"
   ]
  },
  {
   "cell_type": "markdown",
   "metadata": {},
   "source": [
    "The path the rover took to reach the final tennis ball is shown in blue and any obstacles added to the field are in black crosses and the rovers final knowledge of the environment. \n",
    "\n",
    "We can see that one of the major remaining issues is that the search path does not priorities driving over regions of interest on the way to any given target. This can be addressed by adjusting the heuristic of the a* search algorithm. But that is beyond the scope of this demonstration. \n",
    "\n",
    "The purpose was to demonstrate a decision making process for the rover to navigate an environment that it has only partial information about. It assumes a robust target recognition, obstacle detection and robot localisation system.  These will need to be built in order to work."
   ]
  }
 ],
 "metadata": {
  "kernelspec": {
   "display_name": "Python 3",
   "language": "python",
   "name": "python3"
  },
  "language_info": {
   "codemirror_mode": {
    "name": "ipython",
    "version": 3
   },
   "file_extension": ".py",
   "mimetype": "text/x-python",
   "name": "python",
   "nbconvert_exporter": "python",
   "pygments_lexer": "ipython3",
   "version": "3.7.3"
  }
 },
 "nbformat": 4,
 "nbformat_minor": 4
}
