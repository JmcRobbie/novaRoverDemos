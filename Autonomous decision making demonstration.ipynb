{
 "cells": [
  {
   "cell_type": "markdown",
   "metadata": {},
   "source": [
    "# A demonstration of the autonomous decision making system"
   ]
  },
  {
   "cell_type": "markdown",
   "metadata": {},
   "source": [
    "### The intent of this notebook is to demonstrate the use of a decision making system for the Nova Rover. In order to do this we need to: \n",
    "1. Simulate the rover's motion and detections in a simulated environment.\n",
    "2. Simulate detected obstacles and targets\n",
    "3. Demonstrate decision making system that avoids "
   ]
  },
  {
   "cell_type": "code",
   "execution_count": 18,
   "metadata": {},
   "outputs": [
    {
     "ename": "ModuleNotFoundError",
     "evalue": "No module named 'demoUtilites'",
     "output_type": "error",
     "traceback": [
      "\u001b[0;31m---------------------------------------------------------------------------\u001b[0m",
      "\u001b[0;31mModuleNotFoundError\u001b[0m                       Traceback (most recent call last)",
      "\u001b[0;32m<ipython-input-18-52e50529c70c>\u001b[0m in \u001b[0;36m<module>\u001b[0;34m\u001b[0m\n\u001b[1;32m      3\u001b[0m \u001b[0;32mimport\u001b[0m \u001b[0mmatplotlib\u001b[0m\u001b[0;34m.\u001b[0m\u001b[0mpyplot\u001b[0m \u001b[0;32mas\u001b[0m \u001b[0mplt\u001b[0m\u001b[0;34m\u001b[0m\u001b[0;34m\u001b[0m\u001b[0m\n\u001b[1;32m      4\u001b[0m \u001b[0;32mfrom\u001b[0m \u001b[0mitertools\u001b[0m \u001b[0;32mimport\u001b[0m \u001b[0mproduct\u001b[0m\u001b[0;34m\u001b[0m\u001b[0;34m\u001b[0m\u001b[0m\n\u001b[0;32m----> 5\u001b[0;31m \u001b[0;32mfrom\u001b[0m \u001b[0mdemoUtilites\u001b[0m \u001b[0;32mimport\u001b[0m \u001b[0mrover\u001b[0m\u001b[0;34m\u001b[0m\u001b[0;34m\u001b[0m\u001b[0m\n\u001b[0m\u001b[1;32m      6\u001b[0m \u001b[0;32mclass\u001b[0m \u001b[0mrover\u001b[0m\u001b[0;34m:\u001b[0m\u001b[0;34m\u001b[0m\u001b[0;34m\u001b[0m\u001b[0m\n\u001b[1;32m      7\u001b[0m     \u001b[0;32mdef\u001b[0m \u001b[0m__init__\u001b[0m\u001b[0;34m(\u001b[0m\u001b[0mself\u001b[0m\u001b[0;34m,\u001b[0m\u001b[0mx\u001b[0m\u001b[0;34m,\u001b[0m\u001b[0my\u001b[0m\u001b[0;34m,\u001b[0m\u001b[0mth\u001b[0m\u001b[0;34m)\u001b[0m\u001b[0;34m:\u001b[0m\u001b[0;34m\u001b[0m\u001b[0;34m\u001b[0m\u001b[0m\n",
      "\u001b[0;31mModuleNotFoundError\u001b[0m: No module named 'demoUtilites'"
     ]
    }
   ],
   "source": [
    "import numpy as np\n",
    "import math\n",
    "import matplotlib.pyplot as plt\n",
    "from itertools import product\n",
    "from demoUtilites import rover\n",
    "class rover:\n",
    "    def __init__(self,x,y,th):\n",
    "        # Initial conditions selected arbitrarily\n",
    "        self.x = x\n",
    "        self.y = y \n",
    "        self.theta = th   \n",
    "        self.v = 0\n",
    "        self.world = []\n",
    "    def updatestate(self,state):\n",
    "        self.x = state[0]\n",
    "        self.y = state[1]\n",
    "        self.theta = state[2]\n",
    "        self.v = state[3]\n",
    "    def updateMap(self,map):\n",
    "        self.world = map"
   ]
  },
  {
   "cell_type": "markdown",
   "metadata": {},
   "source": [
    "Now that the class of the rover has been defined, we will implement an a* based pathfinding algorithm to search over the known grid. \n",
    "We begin by defining a grid that exists as the rovers main knowledge base. Called World ($W$)\n",
    "Where, $W$ is a 2D array used to denote the \"threat\" or \"opportunity\" level of the grid square. All grid sqaures correspond to real world positions, each grid square has width $w$, which can be tuned for the application. \n",
    "\n",
    "Each cell has a value $W_{x,y} \\in \\mathbb{R}$ \n",
    "\n",
    "Lower values are an opportunity, Higher values are a threat. \n",
    "The algorithm for searching the space works as follows.\n",
    "1. **Initialise** If the rover has just begun a new search for a target (could be a tennis ball) then initialise the array with the following. If this is not true skip this step. \n",
    "    1. Generate an array of zeros with height and width defined by the distance between the target and the rover as estimated by the rovers localization algorithm and the competition supplied gps coordinates. Ensure sufficient for overshoot. For example if it is $X$ m to the tennis ball and square width is defined as $w$ then $n = \\frac{X}{w}$ is the height and width of the array. \n",
    "    2. Place a guassian function at the tennis ball gps location with amplitude $A = -1$ and each cell within range $3 \\sigma$ from the centre calculate its value from that guassian. \n",
    "    \n"
   ]
  },
  {
   "cell_type": "code",
   "execution_count": 19,
   "metadata": {
    "scrolled": true
   },
   "outputs": [
    {
     "data": {
      "image/png": "[encoded data removed]",
      "text/plain": [
       "<Figure size 432x288 with 1 Axes>"
      ]
     },
     "metadata": {
      "needs_background": "light"
     },
     "output_type": "display_data"
    }
   ],
   "source": [
    "## Initialisation routine example in python. \n",
    "\n",
    "def normpdf(x, mean, sd):\n",
    "    var = float(sd)**2\n",
    "    denom = (2*math.pi*var)**.5\n",
    "    num = math.exp(-(float(x)-float(mean))**2/(2*var))\n",
    "    return num/denom\n",
    "def applyGaussianToField(field,weight,x,y,sigma):\n",
    "    for i in range(y-3*sigma,y+3*sigma):            \n",
    "        for j in range(x-3*sigma,x+3*sigma):\n",
    "            cart_distance = math.sqrt((x-j)**2 +(y-i)**2)\n",
    "            if i in set(range(0,field.shape[0])) and j in set(range(0, field.shape[1])):\n",
    "                field[i,j] = weight* normpdf(cart_distance,0,sigma) +field[i,j] \n",
    "    return field\n",
    "def Initialise_tennis_ball_search(x=40,y=50):\n",
    "    suspected_x, suspected_y = (x,y)\n",
    "    rover_x, rover_y = (0,0)\n",
    "    width = 1 # width of a grid cell = 0.1m (tuneable)\n",
    "    sigma = 5 # standard deviation of the guassian\n",
    "    fudgeFactor =1.5 ## Tuneable!\n",
    "    x_size = int (fudgeFactor*(suspected_x-rover_x)+ 1)\n",
    "    y_size = int (fudgeFactor*(suspected_y-rover_y)+ 1)\n",
    "    RoverWorld = np.ones((y_size,x_size))\n",
    "    \n",
    "    RoverWorld = applyGaussianToField(RoverWorld,-20.0,suspected_x,suspected_y,5)\n",
    "    return RoverWorld\n",
    "\n",
    "\n",
    "arr = Initialise_tennis_ball_search()\n",
    "plt.imshow(arr, cmap='hot', interpolation='nearest')\n",
    "plt.show()"
   ]
  },
  {
   "cell_type": "markdown",
   "metadata": {},
   "source": [
    "This is what the rover will know about the world when it first starts up, it will identify the cell of highest interest (Lowest cell index value) and use a minimum cost pathfinding approach\n",
    "2. **Remap** the rover will scan the environment with its sensors and re update the map using its current estimates. \n",
    "    1. Detect any obstacles and/or opportunities with a certain confidence level $p$ and with a certain confidence on the localisation $\\sigma_ij$. \n",
    "    2. Update the _RoverWorld_ map with the targets and opportunities, scaling them appropriately based on cost. \n",
    "3. **Pathfind** Once the map has been updated, recompute the path forward using the new information. \n",
    "4. **Move** and iterate the process. \n"
   ]
  },
  {
   "cell_type": "code",
   "execution_count": 22,
   "metadata": {},
   "outputs": [],
   "source": [
    "# Defining obstacles notation size x position y position sigma\n",
    "obstacles = [(100,20,20,5),(100,20,40,5),(200,40,20,10)]\n"
   ]
  },
  {
   "cell_type": "code",
   "execution_count": 23,
   "metadata": {},
   "outputs": [
    {
     "data": {
      "image/png": "[encoded data removed]",
      "text/plain": [
       "<Figure size 432x288 with 1 Axes>"
      ]
     },
     "metadata": {
      "needs_background": "light"
     },
     "output_type": "display_data"
    }
   ],
   "source": [
    "for obstacle in obstacles:\n",
    "    arr = applyGaussianToField(arr,*obstacle)\n",
    "    \n",
    "plt.imshow(arr, cmap='hot', interpolation='nearest')\n",
    "plt.show()"
   ]
  },
  {
   "cell_type": "markdown",
   "metadata": {},
   "source": [
    "This is an example of how the world will hopefully look from the perspective of the Rover while it is navigating. The remaining task is to pathfind over that graph. We will use the astar algorithm developed by MSP for the 2018 rover to accomplish this. See code below (however, the datails are not super relevant for our purposes here). "
   ]
  },
  {
   "cell_type": "markdown",
   "metadata": {},
   "source": [
    "Before anything else we need to select an objective of the rover, for simplicity we will use the minimum of the graph, something more complex (intelligent) could concievably be used though. "
   ]
  },
  {
   "cell_type": "code",
   "execution_count": 24,
   "metadata": {},
   "outputs": [],
   "source": [
    "import pathfinding"
   ]
  },
  {
   "cell_type": "code",
   "execution_count": 25,
   "metadata": {},
   "outputs": [],
   "source": [
    "min_index_y, min_index_x = np.argwhere(arr == np.min(arr))[0]\n",
    "path = pathfinding.a_star(arr,(0,0),(min_index_x, min_index_y))"
   ]
  },
  {
   "cell_type": "markdown",
   "metadata": {},
   "source": [
    "We now have a path from the beginning point (0,0) to the end target point (50,50). For simplicity we are assuming that the target is exactly at the place where it is most likely to be. Obviously this does not reflect reality, but we will build to that. The next step is to superimpose the path onto a plot of the grid of threats and opportunities to show that it is navigating appropriately. "
   ]
  },
  {
   "cell_type": "code",
   "execution_count": 26,
   "metadata": {},
   "outputs": [
    {
     "data": {
      "image/png": "[encoded data removed]",
      "text/plain": [
       "<Figure size 432x288 with 1 Axes>"
      ]
     },
     "metadata": {
      "needs_background": "light"
     },
     "output_type": "display_data"
    }
   ],
   "source": [
    "x_pos = []\n",
    "y_pos = []\n",
    "for x, y in path:\n",
    "    x_pos.append(x)\n",
    "    y_pos.append(y)\n",
    "plt.plot(x_pos,y_pos)\n",
    "plt.imshow(arr, cmap='hot', interpolation='nearest')\n",
    "plt.show()\n"
   ]
  },
  {
   "cell_type": "markdown",
   "metadata": {},
   "source": [
    "Now that we have tackled the problem of searching over a known field we need to address the more pressing challenge. Pathfinding over a unknown field. As described above, the strategy will be to update the map that we are pathfinding over, and then run a* on that. For simplicity we will simply say that the rover takes the next position identified by the a star pathfinding algorithm, and then rescans the environment and repeats the process."
   ]
  },
  {
   "cell_type": "code",
   "execution_count": 27,
   "metadata": {},
   "outputs": [
    {
     "data": {
      "image/png": "[encoded data removed]",
      "text/plain": [
       "<Figure size 432x288 with 1 Axes>"
      ]
     },
     "metadata": {
      "needs_background": "light"
     },
     "output_type": "display_data"
    }
   ],
   "source": [
    "rover_init_postion = (0,0)\n",
    "ball_location = (36,53) # The actual position of the ball. \n",
    "roverWorld = Initialise_tennis_ball_search()\n",
    "\n",
    "plt.imshow(roverWorld, cmap='hot', interpolation='nearest')\n",
    "min_index_y, min_index_x = np.argwhere(roverWorld == np.min(roverWorld))[0]\n",
    "path_new = pathfinding.a_star(roverWorld,(0,0),(min_index_x, min_index_y))\n",
    "x_pos = []\n",
    "y_pos = []\n",
    "for x, y in path_new:\n",
    "    x_pos.append(x)\n",
    "    y_pos.append(y)\n",
    "plt.plot(x_pos,y_pos)\n",
    "plt.plot(ball_location[0],ball_location[1],\"ro\")\n",
    "plt.show()\n"
   ]
  },
  {
   "cell_type": "markdown",
   "metadata": {},
   "source": [
    "This the first step in the loop, the red dot on the graph represents the actual position of the tennis ball. To make things more challenging we will add 50 obstacles dotted throughout the region, generated randomly."
   ]
  },
  {
   "cell_type": "markdown",
   "metadata": {},
   "source": [
    "We then need to simulate the detection of these obstacles and targets. \n",
    "\n",
    "To do this we will use either random or user generated obstacle lists, when the rover is within a certain range of these obstacles the rover adds them to the map. A similar thing happens with the tennis ball, when it is within range the location of the tennis ball is set to be a place of high interest that the rover can navigate to. \n",
    "\n",
    "Randomly generating obstacles can be done but they wont necessarily get placed anywhere interesting, so the use can choose to drop them exactly in the path of the rover and then re run the notebook. This leads to more interesting behaviour. "
   ]
  },
  {
   "cell_type": "code",
   "execution_count": 28,
   "metadata": {},
   "outputs": [],
   "source": [
    "import random \n",
    "random.seed()\n",
    "# unknown_obstacles = [ ( random.randint(0, 60), random.randint(0, 60) ) for k in range(10) ]\n",
    "unknown_obstacles = [(7,40)]\n",
    "unknown = set(unknown_obstacles)\n",
    "\n",
    "roverLoc = rover_init_postion\n",
    "def scan(known,obs,pos,tenLoc):\n",
    "    pos_x, pos_y = pos\n",
    "    rge = [-3,-2,-1,0,1,2,3]\n",
    "    n_rows = len(known)\n",
    "    n_cols = len(known[0])   \n",
    "    reach = [(pos_x + dx, pos_y + dy) for dx, dy in product(rge,rge)]\n",
    "    for x, y in reach:\n",
    "\n",
    "        if (x,y) in obs:\n",
    "            return applyGaussianToField(known,20,x,y,5)\n",
    "        elif (x,y) == tenLoc:\n",
    "            return applyGaussianToField(known,-70,x,y,5)\n",
    "    \n",
    "    return known\n",
    "\n",
    "path = [roverLoc]"
   ]
  },
  {
   "cell_type": "markdown",
   "metadata": {},
   "source": [
    "We will also add back the obstacles from the earlier sections to the rover map. We will tell the rover about these obstacles ahead of time, we can imagine these as simulating no-go zones that the rover will avoid based on satellite imagery analysis of the competition area.  "
   ]
  },
  {
   "cell_type": "code",
   "execution_count": 29,
   "metadata": {},
   "outputs": [
    {
     "data": {
      "image/png": "[encoded data removed]",
      "text/plain": [
       "<Figure size 432x288 with 1 Axes>"
      ]
     },
     "metadata": {
      "needs_background": "light"
     },
     "output_type": "display_data"
    }
   ],
   "source": [
    "for obstacle in obstacles:\n",
    "    roverWorld = applyGaussianToField(roverWorld,*obstacle)\n",
    "\n",
    "plt.imshow(roverWorld, cmap='hot', interpolation='nearest')\n",
    "plt.plot(ball_location[0],ball_location[1],\"ro\",color = \"Green\")\n",
    "plt.show()"
   ]
  },
  {
   "cell_type": "markdown",
   "metadata": {},
   "source": [
    "We can see the rovers initial understanding of the environment with the tennis ball position in green shown as well. The rover only has the rough estimate of the tennis ball position given from the rough guassian near it. It does not know the exact location of the tennis ball, only that it is most likely nearby. "
   ]
  },
  {
   "cell_type": "code",
   "execution_count": 30,
   "metadata": {},
   "outputs": [
    {
     "data": {
      "image/png": "[encoded data removed]",
      "text/plain": [
       "<Figure size 432x288 with 1 Axes>"
      ]
     },
     "metadata": {
      "needs_background": "light"
     },
     "output_type": "display_data"
    }
   ],
   "source": [
    "while roverLoc != ball_location:\n",
    "    roverWorld = scan(roverWorld,unknown,roverLoc,ball_location)\n",
    "    min_y, min_x = np.argwhere(roverWorld == np.min(roverWorld))[0]\n",
    "    curr_path = pathfinding.a_star(roverWorld,roverLoc,(min_x,min_y))\n",
    "\n",
    "    if len(curr_path) == 1:\n",
    "        break\n",
    "\n",
    "    roverLoc = curr_path[1]\n",
    "    path.append(roverLoc)\n",
    "    \n",
    "\n",
    "    \n",
    "plt.imshow(roverWorld, cmap='hot', interpolation='nearest')\n",
    "plt.plot(ball_location[0],ball_location[1],\"ro\",color = \"Green\")\n",
    "x_pos = []\n",
    "y_pos = []\n",
    "for ob in unknown_obstacles:\n",
    "    plt.plot(ob[0],ob[1],\"X\",color=\"black\")\n",
    "for x, y in path:\n",
    "    x_pos.append(x)\n",
    "    y_pos.append(y)\n",
    "plt.plot(x_pos,y_pos)\n",
    "plt.show()"
   ]
  },
  {
   "cell_type": "markdown",
   "metadata": {},
   "source": [
    "The path the rover took to reach the final tennis ball is shown in blue and any obstacles added to the field are in black crosses and the rovers final knowledge of the environment. \n",
    "\n",
    "We can see that one of the major remaining issues is that the search path does not priorities driving over regions of interest on the way to any given target. This can be addressed by adjusting the heuristic of the a* search algorithm. But that is beyond the scope of this demonstration. \n",
    "\n",
    "The purpose was to demonstrate a decision making process for the rover to navigate an environment that it has only partial information about. It assumes a robust target recognition, obstacle detection and robot localisation system.  These will need to be built in order to work.\n"
   ]
  },
  {
   "cell_type": "code",
   "execution_count": null,
   "metadata": {},
   "outputs": [],
   "source": []
  }
 ],
 "metadata": {
  "kernelspec": {
   "display_name": "Python 3",
   "language": "python",
   "name": "python3"
  }
 },
 "nbformat": 4,
 "nbformat_minor": 4
}
