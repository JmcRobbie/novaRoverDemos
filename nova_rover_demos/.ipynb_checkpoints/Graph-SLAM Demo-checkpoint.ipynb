{
 "cells": [
  {
   "cell_type": "code",
   "execution_count": 1,
   "metadata": {},
   "outputs": [],
   "source": [
    "from SLAM.graph_slam import GraphSlam\n",
    "from utils.rover import Rover\n",
    "from Control import pose_control\n",
    "import numpy as np\n",
    "import matplotlib.pyplot as plt\n",
    "import math"
   ]
  },
  {
   "cell_type": "code",
   "execution_count": null,
   "metadata": {},
   "outputs": [],
   "source": [
    "# Waypoint lamdmarks [x, y, yaw]\n",
    "waypoint_loc = np.array([[1.0, 1.0, 0.0],\n",
    "                        [4.0, 2.0, 0.0],\n",
    "                        [7.0, 3.0, 0.0],\n",
    "                        [8.0, 7.0, 0.0]])\n",
    "\n",
    "# consider 5 obstacles/landmarks \n",
    "# RFID positions [x, y, yaw]z\n",
    "RFID = np.array([[10.0, -2.0, 0.0],\n",
    "                [15.0, 10.0, 0.0],\n",
    "                         [3.0, 15.0, 0.0],\n",
    "                         [-5.0, 20.0, 0.0],\n",
    "                         [-5.0, 5.0, 0.0]\n",
    "                         ])\n",
    "\n",
    "RFID = np.append(RFID, waypoint_loc)\n",
    "\n",
    "xTrue = np.zeros((STATE_SIZE, 1))\n",
    "xDR = np.zeros((STATE_SIZE, 1))  # Dead reckoning\n",
    "xTrue[2] = np.deg2rad(45)\n",
    "xDR[2] = np.deg2rad(45)\n",
    "\n",
    "# history initial values\n",
    "hxTrue = xTrue\n",
    "hxDR = xTrue\n",
    "\n",
    "_, z, _, _ = GraphSlam.observation(xTrue, xDR, np.array([[0,0]]).T, RFID)\n",
    "hz = [z]\n",
    "\n",
    "for i in range(GraphSlam.timesteps)"
   ]
  }
 ],
 "metadata": {
  "kernelspec": {
   "display_name": "Python 3",
   "language": "python",
   "name": "python3"
  },
  "language_info": {
   "codemirror_mode": {
    "name": "ipython",
    "version": 3
   },
   "file_extension": ".py",
   "mimetype": "text/x-python",
   "name": "python",
   "nbconvert_exporter": "python",
   "pygments_lexer": "ipython3",
   "version": "3.6.8"
  }
 },
 "nbformat": 4,
 "nbformat_minor": 2
}
