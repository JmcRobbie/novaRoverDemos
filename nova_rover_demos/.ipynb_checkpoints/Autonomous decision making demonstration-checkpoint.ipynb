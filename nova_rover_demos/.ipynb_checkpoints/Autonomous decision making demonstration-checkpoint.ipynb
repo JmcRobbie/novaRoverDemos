{
 "cells": [
  {
   "cell_type": "markdown",
   "metadata": {},
   "source": [
    "# A demonstration of the autonomous decision making system"
   ]
  },
  {
   "cell_type": "markdown",
   "metadata": {},
   "source": [
    "### The intent of this notebook is to demonstrate the use of a decision making system for the Nova Rover. In order to do this we need to: \n",
    "1. Simulate the rover's motion and detections in a simulated environment.\n",
    "2. Simulate detected obstacles and targets\n",
    "3. Demonstrate decision making system that avoids "
   ]
  },
  {
   "cell_type": "code",
   "execution_count": 1,
   "metadata": {},
   "outputs": [],
   "source": [
    "import numpy as np\n",
    "import math\n",
    "import matplotlib.pyplot as plt\n",
    "from itertools import product\n",
    "from pathfinding.a_star import a_star_search\n",
    "from utils.rover import Rover"
   ]
  },
  {
   "cell_type": "markdown",
   "metadata": {},
   "source": [
    "Now that the class of the rover has been defined, we will implement an a* based pathfinding algorithm to search over the known grid. \n",
    "We begin by defining a grid that exists as the rovers main knowledge base. Called World ($W$)\n",
    "Where, $W$ is a 2D array used to denote the \"threat\" or \"opportunity\" level of the grid square. All grid sqaures correspond to real world positions, each grid square has width $w$, which can be tuned for the application. \n",
    "\n",
    "Each cell has a value $W_{x,y} \\in \\mathbb{R}$ \n",
    "\n",
    "Lower values are an opportunity, Higher values are a threat. \n",
    "The algorithm for searching the space works as follows.\n",
    "1. **Initialise** If the rover has just begun a new search for a target (could be a tennis ball) then initialise the array with the following. If this is not true skip this step. \n",
    "    1. Generate an array of zeros with height and width defined by the distance between the target and the rover as estimated by the rovers localization algorithm and the competition supplied gps coordinates. Ensure sufficient for overshoot. For example if it is $X$ m to the tennis ball and square width is defined as $w$ then $n = \\frac{X}{w}$ is the height and width of the array. \n",
    "    2. Place a guassian function at the tennis ball gps location with amplitude $A = -1$ and each cell within range $3 \\sigma$ from the centre calculate its value from that guassian. \n",
    "    \n"
   ]
  },
  {
   "cell_type": "code",
   "execution_count": 2,
   "metadata": {
    "scrolled": true
   },
   "outputs": [
    {
     "data": {
      "image/png": "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\n",
      "text/plain": [
       "<Figure size 432x288 with 1 Axes>"
      ]
     },
     "metadata": {
      "needs_background": "light"
     },
     "output_type": "display_data"
    }
   ],
   "source": [
    "## Initialisation routine example in python. \n",
    "\n",
    "def norm_pdf(x, mean, sd):\n",
    "    var = float(sd)**2\n",
    "    denom = (2*math.pi*var)**.5\n",
    "    num = math.exp(-(float(x)-float(mean))**2/(2*var))\n",
    "    return num/denom\n",
    "\n",
    "def apply_gaussian_to_field(field,weight,x,y,sigma):\n",
    "    for i in range(y-3*sigma,y+3*sigma):            \n",
    "        for j in range(x-3*sigma,x+3*sigma):\n",
    "            \n",
    "            cart_distance = math.sqrt((x-j)**2 +(y-i)**2)\n",
    "            \n",
    "            if i in set(range(0,field.shape[0])) and j in set(range(0, field.shape[1])):\n",
    "                field[i,j] = weight* norm_pdf(cart_distance,0,sigma) + field[i,j] \n",
    "    return field\n",
    "\n",
<<<<<<< master:nova_rover_demos/.ipynb_checkpoints/Autonomous decision making demonstration-checkpoint.ipynb
    "\n",
    "def initialise_tennis_ball_search(x=40,y=50):\n",
=======
    "def Initialise_tennis_ball_search(x=40,y=50):\n",
>>>>>>> Added Graph-SLAM implementation:Autonomous decision making demonstration.ipynb
    "    suspected_x, suspected_y = (x,y)\n",
    "    rover_x, rover_y = (0,0)\n",
    "    width = 1 # width of a grid cell = 0.1m (tuneable)\n",
    "    sigma = 5 # standard deviation of the guassian\n",
    "    fudge_factor =1.5 ## Tuneable!\n",
    "    x_size = int (fudge_factor*(suspected_x-rover_x)+ 1)\n",
    "    y_size = int (fudge_factor*(suspected_y-rover_y)+ 1)\n",
    "    rover_world = np.ones((y_size,x_size))\n",
    "    \n",
    "    rover_world = apply_gaussian_to_field(rover_world,-20.0,suspected_x,suspected_y,5)\n",
    "    return rover_world\n",
    "\n",
    "\n",
    "arr = initialise_tennis_ball_search()\n",
    "plt.imshow(arr, cmap='hot', interpolation='nearest')\n",
    "plt.show()"
   ]
  },
  {
   "cell_type": "markdown",
   "metadata": {},
   "source": [
    "This is what the rover will know about the world when it first starts up, it will identify the cell of highest interest (Lowest cell index value) and use a minimum cost pathfinding approach\n",
    "2. **Remap** the rover will scan the environment with its sensors and re update the map using its current estimates. \n",
    "    1. Detect any obstacles and/or opportunities with a certain confidence level $p$ and with a certain confidence on the localisation $\\sigma_ij$. \n",
    "    2. Update the _RoverWorld_ map with the targets and opportunities, scaling them appropriately based on cost. \n",
    "3. **Pathfind** Once the map has been updated, recompute the path forward using the new information. \n",
    "4. **Move** and iterate the process. \n"
   ]
  },
  {
   "cell_type": "code",
   "execution_count": 3,
   "metadata": {},
   "outputs": [],
   "source": [
    "# Defining obstacles notation size x position y position sigma\n",
    "obstacles = [(100,20,20,5),(100,20,40,5),(200,40,20,10)]\n"
   ]
  },
  {
   "cell_type": "code",
   "execution_count": 4,
   "metadata": {},
   "outputs": [
    {
     "data": {
      "image/png": "iVBORw0KGgoAAAANSUhEUgAAANUAAAD7CAYAAAD95tHFAAAABHNCSVQICAgIfAhkiAAAAAlwSFlzAAALEgAACxIB0t1+/AAAADh0RVh0U29mdHdhcmUAbWF0cGxvdGxpYiB2ZXJzaW9uMy4xLjAsIGh0dHA6Ly9tYXRwbG90bGliLm9yZy+17YcXAAAdGklEQVR4nO2dXaylVXnH/8+cmXGO88HMMDAODHagEgzWADpRCV5QKQ21RnphDNQ0piHhxjaYmqi0F22TNtEblYvGZOJHubCiRa2EGCxFSNNeIFiolRmRj6IMBUbRkY8BgeHpxX5fzn8f1jPv8+69zjn7Pef/S072s9f7td69z3rXfz/rWc8yd4cQoh7rVroCQqw21KiEqIwalRCVUaMSojJqVEJURo1KiMpM1ajM7DIzu9/MHjSzT9aqlBBDxiYdpzKzOQA/AXApgMMA7gJwpbsfrFc9IYbH+imOfQeAB939YQAwsxsAXA4gbFTzZr5tigvOGjbh9j7lkZSwhN21f9/6TUr02PaEPcm+APBKj7p01e9pAMfc0x/LNI3qdACP0vvDAN55ogO2AbhiigsuJxldPNdRti4oz+zTlm8M9o3KNwTnK5X3qUdf+J/6eKKc7ZcK5VzG53ixZ3mpLlE92u3Xox/TNKoUZnY1gKsBYOtSX0yIGWCaRvUYgDPo/d6mbAx3PwDgAADsNpvpQMNJeycun6Z3KvUmG4LtbGd6s9KxUZ34OAT7lIgkV6bXeCmw22M3FsoW14mPY44H5Vn6yuFpvH93ATjbzM40s40YKbubpjifEKuCiXsqd3/ZzP4MwHcxeuh9yd3vq1YzIQbKVL+p3P07AL5TqS4rQg3Jx+eZRvKVJF1f+fe6oLx0bB+nRl+6HA+Ly7vk32+oLCOx2Wa5uBwookKIyqhRCVGZJXepD5U+ko/La0g+Lt8U7LspYUf7l+RfRgr2YRrJ90Kh/IVgO9uTStUultP7J4QosCZ7qr5Pkj5PwGl6p5KTYVOwncs3B+Vdx3Y5MoBcz9v2RJOOQQHjPc6mQjnXaV1gszMDwT7LgXoqISqjRiVEZVa9/Ot6avQdV+rap48TYrFdkm6RnHt9orxLFnLZXFSp6IMoEUXOkuY7TnbkcHiO7Fa2RlXiz/W5YJ9pew45KoRYYdSohKjMqpd/JaaRfF0yJBNWxLIr8v61+0QSLpJ5W4N95rmymwo7RANcUQh8iWhCE0m+OdJ5m4+RTeWb6DytpIvk8zMdVTpRFUtR9ZEHsw/qqYSojBqVEJVZU/KvK5QoM0W9T+Q379s33KiVgiztWK1tC8pZ/lm0oS3PjBr3CVmPRnwzbj6WgqTpNh17bTWiniAzSB9NpGwpSb6+PY96KiEqo0YlRGVWpfzr8uL1yeMA9Iv8zuzb5fEDFpQZl4WevQ3BTl12pC2jm+gKWc+EnZPMG5N/7Maj688dHb3uoO1zpOEiyRd57kqZk6JsSvL+CTEjqFEJUZlVI/8yHqFSgsoop0Mmzq60Ty35Vxr85XrYFnrDrkCWeSeRvb2wTzRqnJF/pbkfGfn3TGBHnsiCW3XbL2k7ScGM5ONTZ5NpVo/9M7MvmdkRM/sRle00s1vN7IHmdUfP6wqxasnIv38EcNmisk8CuM3dzwZwW/NeCIGE/HP3fzezfYuKLwdwcWNfD+AOAJ+oWK+p6BrczcygjcZNI8XUlkfnntTLODaAG1WK5V8k+Up25ib5hqKAyJIbjafhRl4+to+S3ZVOl2ApeJykYDDzpBj7F21vy/vKv0l/U+1298cb+wkAu6MdlUtdrDWm9v75aIGrMEe6ux9w9/3uvn9+2osJMQAm7ameNLM97v64me0BcKRmpbJkpmqUPG2ZeLo+KgpY6IVTs2kz+cBKwYRRxTMVLN1Q6QYWnzvSsPzht5opyuTCA76R5Is8jqXHfhBjuO3XxeJoFsqr9ovBvq9K8EIVTsSkPdVNAD7c2B8G8O0JzyPEqqOzpzKzr2LklNhlZocB/DWATwH4upldBeCnAD64lJVk+oxHAWVHQPSQP5nsUxL2XOnpnwn3iSj9GI88GZHHhO2dZPPNtfWOeqrMmFXXOFVmbKpP7xR5HngCJNk8AZKrwv6Ttpw7YLajpXm6yHj/rgw2XTLhNYVY1ShMSYjKDDpMKTPZsKSY2CHBqojHBU4jeweHBJ0eHNCeKJJOpR/2QG7NmZZICkZjVjsDu+SoYCkbzYDsI//YOfE02eRMSM08LA0mJSZAcs6LF14p7vLqR8hlJV+RUpQJscKoUQlRmUHIv4zHLxruKUWSs9JhBcergm/bRW/OIntfcEB7IpZUfHEmytlwrFAehV6zxo3CjbguJU9gZjBuLE6KdTD/67zcvD5L56CbiTyiXZIPKK+lE010ZJuus+lYsfjV03QNIUr+CbHCqFEJUZlByD+m70qFHGTdKqNokHcbS6SzyT6X7HPIZlnYegX5HFwRljQsZY4GdjtIylKHY2j4hiNPYB/5t4U1GmtfPkkP+Wd0Mzt+sWBv4BsiosHd9rPiQWO+x2iiI90Oy7/SbIHIqSn5J8SMoEYlRGUGJ/8iuuL9gIUxTVZCp/KB7M1j+fdWss8jm6XgnlZY7AuuzprviQXz+aeLxWgn37Ek5FOwXOIbzgQ2th/APO+8l+w3kM0ake+nJP+4goEbdMvhBfulIECPvXhbF70uthMJRHi2wAaSlqX5jzXWtVJPJURl1KiEqMzg5F9mwLcr1djYtH52/3HAH3v2WOb9Dtm72C349uaVZRT7HlnTkASaf2jBPvNHC/bWRhqxvGFPF3vI+IOI5B/f9Kuyj718LPl4SHxC719m5Hv7zxbsaCJjn8UUEqnVWP6VlpTl/x15/4SYEdSohKjMIORflIQ+Ku/yBI7JP1Y3GSm464305iKy39m8/nbhisD4nIcHgwrQ17Hr3tHrXDByyd6y0tKjQBwT2Dn3IwoEZA1Wkn/Rv1PgFTQaFH59EKDX2qykM7k/gnwapZ8Mmf+jPqinEqIyg+ipMmSyKZWWu0mF9XAPNtYTvaVgv4nK+Er0VB772F8I9mnsrT9ZKGLnRPQ4jH64G38SWxa9Lt6ZyzcH5aWeCkFZdG6yOXyp1ON0ZZ1avE8Qw9bVi9ToZTK51M8ws9vN7KCZ3Wdm1zTlyqcuRIFMw3wZwMfc/VwA7wLwETM7F8qnLkSRTDalxwE83tjPmNkhjGKyZzafetekRotiUTKDXZF8Kf74jyRSJKkKcmw9VXBdYglBZmyf0le9vpJd4RyRfl/Xsb0nUxyappeEbBYquADAneiRT12ItUS6UZnZFgDfAPBRd+f8OCfMp25mV5vZ3WZ29/NTVVWIYZDy/pnZBowa1Ffc/ZtNcSqfursfAHAAAHabhQsZ1OSVoLxN9+C0g0WT46K84PMcisP20UWvwLhu5HIOWYrO11z05WB9mCh3xYZony4PXV+7dJ4pzte1nGGNFa6nOzRNxvtnAL4I4JC7f4Y2KZ+6EAUyPdVFAP4EwP+YWTPMj7/ECuZTF2KWyXj//gNxoO7M5FOP1EFpGZUxNRct7cKLNf+c7B0UVY77yG49d6UcqEAcpsTne4zsJpI9Su4fhSkxY8vw0CdhrcyMJlGyDI3+RUqezUjWRucmO8pA21Y7yuQbZfUNpHL00yC7PYPClISojBqVEJUZROwf9+qlvPiL6ZPtap4lH8u8/yP7YbJ30sS6Xf9ZODvLucQkxbH9aZLiL469tk6ZSYpROQ9mb2tvmr/+TGpd9tx1TVLkD/bX5XKneL9Sdl62eWGpSP5F3lv6hyipyMz/UR/UUwlRGTUqISozCPnHcFfNT4TMuG2rMFhFnZqRfJEyOufggr2n9ejtC3ZephRlfPPM2NSJ5pOY56kmmdUU+qQoY8nHN0bX5HvjGB3+gtovjdVztMAD24EsLDkLo/+dV4MF0A/1VEJURo1KiMoMTv5FdHn8gAWFwarjKTrwZB57jZYZZVimnNYIh500U5c9bqxbWcrwOX5ZKOd9I88eyz+ud5f76iRyuXHm2DDTbJ8UZfwpk+R79lh5F1aLpQHvaBC8y2sI4Hgg/0rev1cCuw/qqYSojBqVEJUZnPzLDARzF89jhq1SYKXBzr/Xk0qZZ+8fP3pYYjxFdpvgldUSyzKGK8jyrrTsJu/LRFlpIw9YSeOMBUbSxTlzLKcR6yP/PJB50WA7f5Ysg9v9I/kXLU8arH1QigWNPiZ5/4SYEQbRU/EPRn4KRGNWUZR6+yDjhyUHErE/4jQas2J/w1hvwid6tHmNeqpMtxr1MqVzRM6JPj1VZkFvTnLJacRK98PX43PwGBTLBO6dunqt0iqTi+3AadE1lNUV9K6eSogVRo1KiMoMQv5liMapSk4L/j3LaiRIv43TSQrOlfQksCD7ovGtSP51TayLJB+fO3J2RB9Eq4FYqkZjZ9HyNF3yj3VWJNfYIdElBUvOixOc+zn6LPnW2HHVVrEr6F3yT4gVRo1KiMoMWv71HbNqlVu0ZnOU259l4Sk0bDNX8nZFCztnUqOWZstl5B9fk/VNFK7f2iwVM4tTR/q4NO4VeRMzOUFKUjAa6yL7OF0nE9Tefn1c7VKUel8yKco2mdn3zey/mwUK/rYpP9PM7jSzB83sa2Zjy0oIsWbJyL/fAHiPu58H4HwAl5nZuwB8GsBn3f1NAH4F4Kqlq6YQwyGTosyxEH+yoflzAO8B8MdN+fUA/gbA5+tXMUc0EMy8suh1sR0NGkfyYTPLmlJIUhRVznRlXo0S80fzH0vurcV2Saqy/OP1E3h0PKrL8UWvi+sReRYzUvDoCcoWnYPHmI8Fdlf6i5IXeUm8f2Y21yTSPALgVoyylRx19zbo6zBGK4EIseZJNSp3P+7u5wPYC+AdAN6cvYAWKBBrjV7eP3c/ama3A7gQwHYzW9/0Vnsxnl6Vj1mWBQoyzrV1i14X25G6iVbDLK5nFZ2w5C0DYldl1wy5TJ6GyG4lE8u8aNA6sxRoafC370BwJAVL6z6QFHyaPqdM8HrJKxh5/9pTV5d/ZnaKmW1v7HkAlwI4BOB2AB9odtMCBUI0ZHqqPQCuN7M5jBrh1939ZjM7COAGM/s7APdgtDKIEGuejPfvhxitnri4/GGMfl+tGJHki1TXxkWvQDyGGi1av5F34lXr2wN4e1TBSBqVgtSCTKsp92Rp0iOwIPuim8/IvxIZ+RfVqUsKspcvkHyR3eUQ7Upyq9g/IVYYNSohKjPo2D8ms8h8W56ReazsNp9Eb95ANi8d3h7MHjUmk6KM5WI7ktkVyLgY1jf8QZSuGQU7ZqZ7lMjMaI7kbhAf2MbzRQlso4m/kcosrXMQyT+lKBNiRlCjEqIyg5B/UcuPBmujgdtW9rHkO5lsVnPbWPKdRfYZZJ9WOBFrSybK3c+zXEtx/pnEMJk0ZqU4xWgqSaSfux7BkXcy4wmk8tKs3YzTMNqnazy8y/vXVwaqpxKiMoPoqZhoDCozl6+1uafaSfYOjsjmHumswN5HduvZyORd50l43LPxDbWPyUT+iRdfKRaPPWLX0Ya5Ra8AMBd5emo4Ksg+TnXK+C9K8ykjx0Omdyp1oNHERDkqhJgR1KiEqMzg5F9EpF5YjbWyLxqPGpN8Z5N9bmCzFGzHr1jOsX7gKGtesTEa1yqt+v1MacdY6kTB8CUVt4F23kCaao7sPn6KhBIMZVkprKhLHkbHnejcbbky1Aox46hRCVGZwcm/zHhUFIXeKq2xqHNeHYbHnX6LbJ7n/FayWSJufGNj7KJCEiGnPrJgb2VfFsG6pp2I9ySV0U164PHjM0cB7qXj+PPLTNwskUm8G0VadUnETNRTZkivz1I68v4JMSOoUQlRmUHIv8xkRKbLEzgWSXRyYLMU3Es2e/w2vo3evKV5ZXHJIoSCoPbcuWA/Q4KNvYI9Jj1m5jyWJE607lcfyRdRWwr2lY199u9aI0LePyFWGDUqISozCPmXIZIsJSk4Fp5XGh0G4hHi+VPpzTkFO5J/DLn0th8sX7+t1xSSL8rMerxQ1lfyRRnXSvRZjgsoS9WuAdpJ9inJ4K6EwRnSPVWTpfYeM7u5ea8FCoQo0Ef+XYNRvr8WLVAgRIGU/DOzvQD+EMDfA/gLMzPM2AIFTJcna0zeRNMcotHkMb24pWBzWXQc2V2PtUC7TJMC4qXCvsv14zqSil0SsUvCnag8knelc5e2L5X373MAPk7XORnJBQqUS12sNTJpn98H4Ii7/2CSC7j7AXff7+775yc5gRADIyP/LgLwfjN7L0a6ZRuA65BcoGAl6PLmjHl1MqOHY068Z8mO1szs2pfWOI2mtHYkZ4imP0QrgXatyzSpp6sv0TKyEX08dF0yL7pmn30zdPZU7n6tu+91930ArgDwPXf/ELRAgRBFphmn+gRmaIGCPmEx/NSej1Lz8Mp9nPHoWdqw5b5CTXicinuq+xfMF3+2YD8RXLO1g1UDox6pT3ahIFa+eqR2Jpysi4yDo68TpHRcjR677/pUdwC4o7FXfIECIWYRhSkJUZlBhClF+RWirpq789K4DUukHSyvWIpxxPgjZHMo0TkUYrSlPZjHqejqzx9ZsB9G2ebrtKcLVg0MVGGYaLJL/vX98V8ikz4us090zhJRnTL/G9lzKEpdiBVGjUqIygxC/jHcVfMTIZqUVhrD4VTmz5ODbp4l30NkR/nRWV+d0ui0TaTXuCLsQTxM9o/JZin46OjFqU58ikj+RZKv5AmM8llMmrMhkzE4Ss0eJcKdK+ybIeO17BqzmhT1VEJURo1KiMoMTv5FRLkPSt4/lk6cAWzfo/QmWmiANRMf3K50wDqGKxJlqP0p2Q+Q/fBrLxHJP15lMFpNkPf5TaEsk96rj/ev7yo9XZMFJs2VkaF2iJZ6KiEqo0YlRGUGJ/8yA8GRlGk9Y6E0IQ15OksxPgnH5/Gi2u2gcCT/ovWpWAqS/DzSaDQO/edLswcz8vj18f5F6cz6LHjAT2j+XPkcvB5DZmC53SfKoJuhb2T84mv3RT2VEJVRoxKiMoOQf1Em1cxAcGnwl6UEe9SYl+iiu8lDN8/Sjb2Fra6J5B9XhM7xIg0+c+hhWy/2/vGloykekV1axymTzizyBJaIbj1ypPL3Fy3TVTo2GmSOeojlkHyMeiohKqNGJURlBiH/IiJPIMex8VOD5U6JKGaQpdZJJNe2kl1KKMv1i/JIRFkuShN/2ePHA7dRvorofko5KqL6RecrSfKNwXYmmgYSpUsrSc7oJ0BE1HPUkHp9rieEmBA1KiEqk81Q+whGKug4gJfdfb+Z7QTwNQD7MJqz+kF3/9XSVHOBjCeQ6fJYRftmxm3ZY1WKUcsMSEczdVs7it/LeOu6lujMHJeJA2zvOZJTmSkhkeewNLCc8fgxSyXzIvr0VL/r7ue7+/7m/ScB3ObuZwO4rXkvxJpnGkfF5QAubuzrMcqy9Ikp69OLGk8gfuJmHBVRxDXbJTJ5OkvOgkye9Mjh0FWe6Z2i8KUS0WeQ6akmXcmRt2dWhlwOsj2VA/hXM/uBmV3dlO1298cb+wmMrb8pxNol21O9290fM7NTAdxqZjwJHO7uZlZMOtM0wquB8UREQqxWUo3K3R9rXo+Y2bcwSqL5pJntcffHzWwPgCPBsQcAHACA3UHDq03X2EWUdyEz0THKsVD6QZ3J7R1JztIC0pmI8T5kZEokr0qOir4rMEbXmWT7LJFZ9WOzmW1tbQC/D+BHAG7CKIc6oFzqQrxKpqfaDeBbo3XesB7AP7n7LWZ2F4Cvm9lVGE0K/+DSVVOI4dDZqJqc6ecVyp8CcMlSVGoS+o5ftbD8isaVolRazKSZVPk6JVkYjQ31XfC5NLbDZSxrM3kpStI3sxBlxrPXZxxqFmWhIiqEqIwalRCVGXSUekTXoHAU3Z7xqJVCaPrSZzGAjKcyYl1gd8m1aFJh1/1m0pJl7CFKPkY9lRCVUaMSojKrUv5FtJIp8g5GsrB0DqBfBHxE19pI0wzyRp62VmqxRMtMKnwx2Kclyji7KbC7FiVgO/P0n5UeYlbqIcSqQY1KiMqsKfnXkvGcRfvUkHwRXfIuU+9okuSGoLxElCPidUFdSoPJfeVfZhrIicpmCfVUQlRGjUqIyqxJ+TdUomklk67sHsHH1VifKjPIHHkCS9IShe2zxCzWSYhBo55qFVDjh3vUy0SOma4xvajniXqtaJ8+EyBnBfVUQlRGjUqIykj+DZTIacH0kUzR+NbGoLzrHJnkl12SL2LWe4JZr58Qg0ONSojKSP6tAjIrCHaF+0SrUjJdYVKZ9GMZKVg6dkhP/1RdzWy7md1oZj82s0NmdqGZ7TSzW83sgeZ1x1JXVoghkH0AXAfgFnd/M0aZlQ5BCxQIUcTcT5w01sxOAnAvgLOcdjaz+wFcTBlq73D3c050rt1mfkWFSq8FJs06y0RyrZT/InNc6RzA5N66TLqyGrJv2oHjGwA86W7Z/TN1PhOjxdK/bGb3mNkXmky1qQUKzOxqM7vbzO5+PlsrIQZMplGtB/A2AJ939wswWl1lTOo1PVixy3P3A+6+3933z09bWyEGQMb7dxjAYXe/s3l/I0aNKrVAgZiMVrJMIwO7otoj719UHp27xDSR87Mg+aahs/7u/gSAR82s/b10CYCD0AIFQhTJjlP9OYCvmNlGAA8D+FOMGqQWKBBiEdn1qe4FsL+waWYWKFitZKRYhpIk6TvRsU/sX4baA7qzMj1kSAPVQgwCNSohKqPYvwFRSwq29I3xm1ReLeWTe1YkH6OeSojKqFEJURnJv4FSWwoys/6knUXJx8z65yfE4FBPtQqY9Sf3WkM9lRCVUaMSojJqVEJURo1KiMqoUQlRGTUqISqjRiVEZdSohKiMGpUQlVGjEqIyalRCVKazUZnZOWZ2L/09bWYfVS51IcpkUpTd7+7nu/v5AN4O4BiAb0G51IUo0lf+XQLgIXf/KYDLAVzflF8P4I9qVkyIodK3UV0B4KuNncqlLsRaI92omkSa7wfwz4u3nSiXuhYoEGuNPj3VHwD4L3d/snn/ZJNDHSfKpa4FCsRao0+juhIL0g9QLnUhimSXJ90M4FIA36TiTwG41MweAPB7zXsh1jzZXOrPATh5UdlTUC51IV6DIiqEqIwalRCVUaMSojJqVEJURo1KiMqoUQlRGTUqISqjRiVEZdSohKiMGpUQlVGjEqIyNpoKtUwXM/s5gOcA/GLZLroy7MLqv0dgbdznLgCb3f2U7AHL2qgAwMzudvf9y3rRZWYt3COwNu5zknuU/BOiMmpUQlRmJRrVgRW45nKzFu4RWBv32fsel/03lRCrHck/ISqzrI3KzC4zs/vN7EEzWxUZbc3sDDO73cwOmtl9ZnZNU77q0mKb2ZyZ3WNmNzfvzzSzO5vv82tNGrvBYmbbzexGM/uxmR0yswsn+R6XrVGZ2RyAf8Ao1dm5AK40s3OX6/pLyMsAPubu5wJ4F4CPNPe1GtNiXwPgEL3/NIDPuvubAPwKwFUrUqt6XAfgFnd/M4DzMLrX/t+juy/LH4ALAXyX3l8L4Nrluv4y3ue3Mco8dT+APU3ZHgD3r3Tdpryvvc0/1XsA3AzAMBr4XV/6fof2B+AkAP+Lxs9A5b2/x+WUf6cDeJTeH27KVg1mtg/ABQDuxOpLi/05AB8H8Erz/mQAR9395eb90L/PMwH8HMCXG4n7hSY1X+/vUY6KSpjZFgDfAPBRd3+at/noMTdYN6uZvQ/AEXf/wUrXZQlZD+BtAD7v7hdgFE43JvWy3+NyNqrHAJxB7/c2ZYPHzDZg1KC+4u5twtFUWuyBcBGA95vZIwBuwEgCXgdgu5m1uSOH/n0eBnDY3e9s3t+IUSPr/T0uZ6O6C8DZjcdoI0YriNy0jNdfEszMAHwRwCF3/wxtWjVpsd39Wnff6+77MPrevufuHwJwO4APNLsN/R6fAPComZ3TFF0C4CAm+R6X+cfgewH8BMBDAP5qpX+cVrqnd2MkCX4I4N7m770Y/ea4DcADAP4NwM6Vrmul+70YwM2NfRaA7wN4EKPVYF630vWb8t7OB3B3813+C4Adk3yPiqgQojJyVAhRGTUqISqjRiVEZdSohKiMGpUQlVGjEqIyalRCVEaNSojK/D+K4SHWRGexBAAAAABJRU5ErkJggg==\n",
      "text/plain": [
       "<Figure size 432x288 with 1 Axes>"
      ]
     },
     "metadata": {
      "needs_background": "light"
     },
     "output_type": "display_data"
    }
   ],
   "source": [
    "for obstacle in obstacles:\n",
    "    arr = apply_gaussian_to_field(arr,*obstacle)\n",
    "    \n",
    "plt.imshow(arr, cmap='hot', interpolation='nearest')\n",
    "plt.show()"
   ]
  },
  {
   "cell_type": "markdown",
   "metadata": {},
   "source": [
    "This is an example of how the world will hopefully look from the perspective of the Rover while it is navigating. The remaining task is to pathfind over that graph. We will use the astar algorithm developed by MSP for the 2018 rover to accomplish this. See code below (however, the datails are not super relevant for our purposes here). "
   ]
  },
  {
   "cell_type": "markdown",
   "metadata": {},
   "source": [
    "Before anything else we need to select an objective of the rover, for simplicity we will use the minimum of the graph, something more complex (intelligent) could concievably be used though. "
   ]
  },
  {
   "cell_type": "code",
   "execution_count": 25,
   "metadata": {},
   "outputs": [],
   "source": [
    "from pathfinding.a_star import a_star_search\n",
    "from pathfinding.best_first import best_first_search\n",
    "from pathfinding.dijkstra import dijkstra_search"
   ]
  },
  {
   "cell_type": "code",
   "execution_count": 33,
   "metadata": {},
   "outputs": [],
   "source": [
    "min_index_y, min_index_x = np.argwhere(arr == np.min(arr))[0]\n",
    "path = a_star_search(arr,(0,0),(min_index_y, min_index_x))"
   ]
  },
  {
   "cell_type": "markdown",
   "metadata": {},
   "source": [
    "We now have a path from the beginning point (0,0) to the end target point (50,50). For simplicity we are assuming that the target is exactly at the place where it is most likely to be. Obviously this does not reflect reality, but we will build to that. The next step is to superimpose the path onto a plot of the grid of threats and opportunities to show that it is navigating appropriately. "
   ]
  },
  {
   "cell_type": "code",
   "execution_count": 35,
   "metadata": {},
   "outputs": [
    {
     "data": {
      "image/png": "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\n",
      "text/plain": [
       "<Figure size 432x288 with 1 Axes>"
      ]
     },
     "metadata": {
      "needs_background": "light"
     },
     "output_type": "display_data"
    }
   ],
   "source": [
    "x_pos = []\n",
    "y_pos = []\n",
    "for x, y in path:\n",
    "    x_pos.append(x)\n",
    "    y_pos.append(y)\n",
    "plt.plot(y_pos,x_pos)\n",
    "plt.imshow(arr, cmap='hot', interpolation='nearest')\n",
    "plt.show()\n"
   ]
  },
  {
   "cell_type": "markdown",
   "metadata": {},
   "source": [
    "Now that we have tackled the problem of searching over a known field we need to address the more pressing challenge. Pathfinding over a unknown field. As described above, the strategy will be to update the map that we are pathfinding over, and then run a* on that. For simplicity we will simply say that the rover takes the next position identified by the a star pathfinding algorithm, and then rescans the environment and repeats the process."
   ]
  },
  {
   "cell_type": "code",
   "execution_count": 18,
   "metadata": {},
   "outputs": [
    {
     "data": {
      "image/png": "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\n",
      "text/plain": [
       "<Figure size 432x288 with 1 Axes>"
      ]
     },
     "metadata": {
      "needs_background": "light"
     },
     "output_type": "display_data"
    }
   ],
   "source": [
    "rover_init_postion = (0,0)\n",
    "ball_location = (36,53) # The actual position of the ball. \n",
    "rover_world = initialise_tennis_ball_search()\n",
    "\n",
    "plt.imshow(rover_world, cmap='hot', interpolation='nearest')\n",
    "min_index_y, min_index_x = np.argwhere(rover_world == np.min(rover_world))[0]\n",
    "path_new = a_star_search(rover_world,(0,0),(min_index_x, min_index_y))\n",
    "x_pos = []\n",
    "y_pos = []\n",
    "for x, y in path_new:\n",
    "    x_pos.append(x)\n",
    "    y_pos.append(y)\n",
    "plt.plot(x_pos,y_pos)\n",
    "plt.plot(ball_location[0],ball_location[1],\"ro\")\n",
    "plt.show()\n"
   ]
  },
  {
   "cell_type": "markdown",
   "metadata": {},
   "source": [
    "This the first step in the loop, the red dot on the graph represents the actual position of the tennis ball. To make things more challenging we will add 50 obstacles dotted throughout the region, generated randomly."
   ]
  },
  {
   "cell_type": "markdown",
   "metadata": {},
   "source": [
    "We then need to simulate the detection of these obstacles and targets. \n",
    "\n",
    "To do this we will use either random or user generated obstacle lists, when the rover is within a certain range of these obstacles the rover adds them to the map. A similar thing happens with the tennis ball, when it is within range the location of the tennis ball is set to be a place of high interest that the rover can navigate to. \n",
    "\n",
    "Randomly generating obstacles can be done but they wont necessarily get placed anywhere interesting, so the use can choose to drop them exactly in the path of the rover and then re run the notebook. This leads to more interesting behaviour. "
   ]
  },
  {
   "cell_type": "code",
   "execution_count": 19,
   "metadata": {},
   "outputs": [],
   "source": [
    "import random \n",
    "random.seed()\n",
    "# unknown_obstacles = [ ( random.randint(0, 60), random.randint(0, 60) ) for k in range(10) ]\n",
    "unknown_obstacles = [(7,40)]\n",
    "unknown = set(unknown_obstacles)\n",
    "\n",
    "rover_loc = rover_init_postion\n",
    "def scan(known,obs,pos, ten_loc):\n",
    "    pos_x, pos_y = pos\n",
    "    rge = [-3,-2,-1,0,1,2,3]\n",
    "    n_rows = len(known)\n",
    "    n_cols = len(known[0])   \n",
    "    reach = [(pos_x + dx, pos_y + dy) for dx, dy in product(rge,rge)]\n",
    "    for x, y in reach:\n",
    "\n",
    "        if (x,y) in obs:\n",
    "            return apply_gaussian_to_field(known,20,x,y,5)\n",
    "        elif (x,y) == ten_loc:\n",
    "            return apply_gaussian_to_field(known,-70,x,y,5)\n",
    "    \n",
    "    return known\n",
    "\n",
    "path = [rover_loc]"
   ]
  },
  {
   "cell_type": "markdown",
   "metadata": {},
   "source": [
    "We will also add back the obstacles from the earlier sections to the rover map. We will tell the rover about these obstacles ahead of time, we can imagine these as simulating no-go zones that the rover will avoid based on satellite imagery analysis of the competition area.  "
   ]
  },
  {
   "cell_type": "code",
   "execution_count": 20,
   "metadata": {},
   "outputs": [
    {
     "data": {
      "image/png": "iVBORw0KGgoAAAANSUhEUgAAANUAAAD7CAYAAAD95tHFAAAABHNCSVQICAgIfAhkiAAAAAlwSFlzAAALEgAACxIB0t1+/AAAADh0RVh0U29mdHdhcmUAbWF0cGxvdGxpYiB2ZXJzaW9uMy4xLjAsIGh0dHA6Ly9tYXRwbG90bGliLm9yZy+17YcXAAAdi0lEQVR4nO2dXaxcV3XH/8vXvvji74/EceJQJxAZmUZJwAKi8JDipkpTIH1AUVJUoSpSXmgVVCQg7UNbqZXgBchDhWTxUT9QAg1QoghBU5Ooah9MkiYFYmPy0QQ7TWIIOF9OcGyvPsw5vv+Z7OWzz8y+c+fc+f+kq1mzz9c+M3ef/Z+1117b3B1CiHIsW+wKCLHUUKMSojBqVEIURo1KiMKoUQlRGDUqIQozUqMys2vN7JCZPWZmny5VKSG6jA07TmVmMwB+DuAaAEcA3A/gJnc/UK56QnSP5SMc+24Aj7n7EwBgZncAuB5A2KjmzHztCBecNGzI7W3KIylhGXbT/m3rNyzRY9sz7GH2BYDTLerSVL8XARx3z/5YRmlUFwA4TO+PAHjP2Q5YC+DGES44TnJ08UxD2bKgPGefunw22DcqXxGcL1Xeph5t4X/qUxnlbL+eKOcyPseJluWpukT1qLfvRTtGaVRZmNktAG4BgDULfTEhJoBRGtXTAC6k99uqsj7cfQ+APQCwxWyiAw2H7Z24fJTeKdWbrAi2s53Tm6WOjerExyHYJ0UkuXJ6jdcDuz52NlE2WCc+jjkVlOfSVg6P4v27H8AlZnaRmc2ip+zuGuF8QiwJhu6p3P2kmf05gB+g99D7irs/UqxmQnSUkX5Tufv3AHyvUF0WhRKSj88ziuRLSbq28u9NQXnq2DZOjbY0OR4Gy5vk32+pLEdis81ycRwookKIwqhRCVGYBXepd5U2ko/LS0g+Ll8Z7Lsyw472T8m/HCnYhlEk32uJ8teC7WwPK1WbGKf3TwiRYCp7qrZPkjZPwFF6p5STYWWwnctXBeVNxzY5MoC8nrfuiYYdgwL6e5yViXKu07LAZmcGgn3GgXoqIQqjRiVEYZa8/Gt6arQdV2rap40TYtBOSbdIzr05o7xJFnLZTFSp6INIEUXOkuY7RXbkcHiF7Fq2RlXiz/WVYJ9Rew45KoRYZNSohCjMkpd/KUaRfE0yJCesiGVX5P2r94kkXCTz1gT7zHFlVyZ2iAa4ohD4FNGEJpJ8M6TzVh0nm8pX0nlqSRfJ55caqnS2Kqai6iMPZhvUUwlRGDUqIQozVfKvKZQoZ4p6m8hv3rdtuFEtBVnasVpbG5Sz/LNoQ12eM2rcJmQ9GvHNcfOxFCRNt/L4G6sR9QQ5g/TRRMqalORr2/OopxKiMGpUQhRmScq/Ji9emzwOQLvI75x9mzx+wLwy47LQs7ci2KnJjrRldBNNIes5Yeck8/rkH7vx6Pozx3qvG2j7DGm4SPJFnrtU5qQom5K8f0JMCGpUQhRmyci/HI9QKkFllNMhJ84utU8p+Zca/OV62Gp6w65AlnnryF6f2CcaNc6Rf6m5Hzny76XAjjyRCbfq2l/TdpKCOZKPT52bTLN47J+ZfcXMjprZT6lso5ndY2aPVq8bWl5XiCVLjvz7JwDXDpR9GsA+d78EwL7qvRACGfLP3f/DzLYPFF8P4OrK3gvgPgCfKlivkWga3M2ZQRuNm0aKqS6Pzj2sl7FvADeqFMu/SPKl7Jyb5BuKAiJTbjSehht5+dg+RnZTOl2CpeApkoLBzJNk7F+0vS5vK/+G/U21xd2fqexnAWyJdlQudTFtjOz9894CV2GOdHff4+673H3X3KgXE6IDDNtTPWdmW939GTPbCuBoyUrlkjNVI+Vpy4mna6OigPleOGs2bU4+sFQwYVTxnAqmbih1A4PnjjQsf/i1ZooyufCAbyT5Io9j6rEfxBiufSFZHM1COWOfCPY9I8ETVTgbw/ZUdwH4aGV/FMB3hzyPEEuOxp7KzL6OnlNis5kdAfA3AD4D4JtmdjOApwDcsJCVZNqMRwFpR0D0kN9E9jkZ9kzq6Z8T7hOR+jEeeTIijwnbG8nmm6vrHfVUOWNWTeNUOWNTbXqnyPPAEyDJ5gmQXBX2n9Tl3AGzHS3N00SO9++mYNPuIa8pxJJGYUpCFKbTYUo5kw1TiokdEqyKeFzgfLI3cEjQBcEB9Yki6ZT6YQ/krTlTE0nBaMxqY2CnHBUsZaMZkG3kHzsnXiSbnAlZMw9Tg0kZEyA558Vrp5O7nPkIuSzlK1KKMiEWGTUqIQrTCfmX4/GLhntSkeSsdFjB8argazfTm4vJ3h4cUJ+IJRVfnIlyNhxPlEeh16xxo3AjrkvKE5gzGNcXJ8U6mP91TlavL9M56GYij2iT5APSa+lEEx3ZpuusPJ4sPnOapiFEyT8hFhk1KiEK0wn5x7RdqZCDrGtlFA3yrmWJdAnZO8neQTbLwtoryOfgirCkYSlzLLDrQVKWOhxDwzcceQLbyL/VrNFY+/JJWsg/o5vZ8Kt5ewXfEBEN7tafFQ8a8z1GEx3pdlj+pWYLRE5NyT8hJgQ1KiEK0zn5F9EU7wfMj2myEjqXD2RvHsu/S8m+jGyWgltrYbE9uDprvmfnzVdfTBajnnzHkpBPwXKJbzgnsLH+AOZ4521kn0c2a0S+n5T84woGbtDVR+bt14MAPfbirRl4HbQzEojwbIEVJC1T8x9LrGulnkqIwqhRCVGYzsm/nAHfplRjfdP62f3HAX/s2WOZ97tkb2a34LuqV5ZR7HtkTUMSaO7xefuin87bayppxPKGPV3sIeMPIpJ/fNNnZB97+Vjy8ZD4kN6/nJHv9b+Yt6OJjG0WU8hIrcbyL7WkLP/vyPsnxISgRiVEYToh/6Ik9FF5kyewT/6xusmRgpvfQm+uIvs91etbE1cE+uc8PBZUgL6OzQ/3XmeCkUv2lqWWHgXimMDGuR9RICBrsJT8i/6dAq+g0aDwm4MAvdpmJZ2T+yPIp5H6yZDzf9QG9VRCFKYTPVUOOdmUUsvdZIX1cA/W1xO9I2G/jcr4SvRU7vvYXwv2qew1P58vYudE9DiMfrgbfxKrB14Hd+byVUF5qqdCUBadm2wOX0r1OE1Zpwb3CWLYmnqREr1MTi71C83sXjM7YGaPmNmtVbnyqQuRIKdhngTwCXffCeC9AD5mZjuhfOpCJMnJpvQMgGcq+yUzO4heTPbE5lNvmtRoUSxKzmBXJF+SP/4jiRRJqoQcW04VXJaxhCDTt0/qq15eyC5wjki/L2vY3pIRDs2mlYSsFiq4AsB+tMinLsQ0kd2ozGw1gG8B+Li7c36cs+ZTN7NbzOwBM3vg1ZGqKkQ3yPL+mdkK9BrU19z921VxVj51d98DYA8AbDELFzIoyemgvE734LSDRZPjorzgcxyKw/axgVegXzdyOYcsReerLnoyWB8myl2xItqnyUPX1k6dZ4TzNS1nWGKF69EOzSbH+2cAvgzgoLt/jjYpn7oQCXJ6qqsA/CmAn5hZNcyPv8Ii5lMXYpLJ8f79J+JA3YnJpx6pg9QyKn1qLlrahRdr/iXZGyiqHI+QXXvuUjlQgThMic/3NNlVJHuU3D8KU2L6luGhT8JqmRlNomQZGv2LpDybkayNzk12lIG2rnaUyTfK6htI5einQe72HBSmJERh1KiEKEwnYv+4V0/lxR+kTbarOZZ8LPP+j+wnyN5IE+s2/1fi7CznMiYp9u1PkxR/dfyNdcqZpBiV82D22vqm+evPSa3LnrumSYr8wb6QLneK90tl52WbF5aK5F/kvaV/iJSKzPk/aoN6KiEKo0YlRGE6If8Y7qr5iZAzblsrDFZR5+ZIvkgZ7Tgwb2+tPXrbg53HlKKMb57pmzpRfRJzPNUkZzWFNinKWPLxjdE1+d44Roe/oPpLY/UcLfDAdiALU87C6H/nTLAA2qGeSojCqFEJUZjOyb+IJo8fMK8wWHU8Twdu4rHXaJlRhmXK+ZVw2EgzddnjxrqVpQyf49eJct438uyx/ON6N7mv1pHLjTPHhplm26Qo40+ZJN/Lx9O7sFpMDXhHg+BNXkMApwL5l/L+nQ7sNqinEqIwalRCFKZz8i9nIJi7eB4zrJUCKw12/r2ZVMoce//40cMS43my6wSvrJZYljFcQZZ3qWU3eV8mykobecBSGqcvMJIuzpljOY1YG/nngcyLBtv5s2QZXO8fyb9oedJg7YNULGj0Mcn7J8SE0Imein8w8lMgGrOKotTrBxk/LDmQiP0R59OYFfsb+noTPtHh6jXqqXK61aiXSZ0jck606alyFvTmJJecRix1P3w9PgePQbFM4N6pqddKrTI5aAdOi6ahrKagd/VUQiwyalRCFKYT8i+HaJwq5bTg37OsRoL027iApOBMSk8C87IvGt+K5F/TxLpI8vG5I2dH9EHUGoilajR2Fi1P0yT/WGdFco0dEk1SMOW8OMu5X6HPkm+NHVd1FZuC3iX/hFhk1KiEKEyn5V/bMatauUVrNke5/VkWnkPDNjMpb1e0sHNOatTUbLkc+cfXZH0ThevXNkvFnMWpI32cGveKvIk5OUFSUjAa6yL7FF0nJ6i9/vq42qko9bbkpChbaWY/MrP/qRYo+Luq/CIz229mj5nZN8z6lpUQYmrJkX+/BfB+d78MwOUArjWz9wL4LIDPu/vbAPwGwM0LV00hukNOijLHfPzJiurPAbwfwJ9U5XsB/C2AL5avYh7RQDBzeuB10I4GjSP5sIplTSokKYoqZ5oyr0aJ+aP5jyn31qCdkqos/3j9BB4dj+pyauB1sB6RZzFHCh47S9nAOXiM+XhgN6W/SHmRF8T7Z2YzVSLNowDuQS9byTF3r4O+jqC3EogQU09Wo3L3U+5+OYBtAN4N4O25F9ACBWLaaOX9c/djZnYvgCsBrDez5VVvtQ396VX5mLEsUJDjXFs28DpoR+omWg0zuZ5VdMKUtwyIXZVNM+Ry8jREdi2ZWOZFg9Y5S4GmBn/bDgRHUjC17gNJwRfpc8oJXk95BSPvX33q4vLPzM4xs/WVPQfgGgAHAdwL4MPVblqgQIiKnJ5qK4C9ZjaDXiP8prvfbWYHANxhZn8P4CH0VgYRYurJ8f79GL3VEwfLn0Dv99WiEUm+SHXNDrwC8RhqtGj9LO/Eq9bXB/D2qIKRNEoFqQWZVrPck6lJj8C87ItuPkf+pciRf1GdmqQge/kCyRfZTQ7RpiS3iv0TYpFRoxKiMJ2O/WNyFpmvy3NkHiu7VevozXlk89Lh9cHsUWNyUpSxXKxHMpsCGQdhfcMfROqaUbBjznSPFDkzmiO5G8QH1vF8UQLbaOJvpDJT6xxE8k8pyoSYENSohChMJ+Rf1PKjwdpo4LaWfSz5NpHNam4tS76Lyb6Q7PMTJ2JtyUS5+3mWayrOPycxTE4as1ScYjSVJNLPTY/gyDuZ4wmk8tSs3RynYbRP03h4k/evrQxUTyVEYTrRUzHRGFTOXL7a5p5qI9kbOCKbe6SLA3s72bVnIyfvOk/C456Nb6h+TGbknzhxOlnc94hdRhtmBl4BYCby9JRwVJB9iuqU479IzaeMHA85vVOqA40mJspRIcSEoEYlRGE6J/8iIvXCaqyWfdF4VJ/ku4TsnYHNUrAev2I5x/qBo6x5xcZoXCu16vdLqR1jqRMFw6dU3AraeQVpqhmy2/gpMpRgKMtSYUVN8jA67mznrsuVoVaICUeNSojCdE7+5YxHRVHotdLqizrn1WF43Ol3yOZ5zpeSzRJx9i2VsZkKSYSc++S8vYZ9WQTrmnoi3nNURjfpgcePzxwFuKeO488vZ+JmipzEu1GkVZNEzIl6yhnSa7OUjrx/QkwIalRCFKYT8i9nMiLT5AnsiyTaFNgsBbeRzR6/2XfSm3dUrywuWYRQENTW/fP2SyTY2CvYYtJjzpzHlMSJ1v1qI/kiSkvBtrKxzf5Na0TI+yfEIqNGJURhOiH/cogkS0oK9oXnpUaHgXiEeO5cerMjYUfyjyGX3voD6evX9RpB8kWZWU8lytpKvijjWoo2y3EBaanaNEA7zD4pGdyUMDiH7J6qylL7kJndXb3XAgVCJGgj/25FL99fjRYoECJBlvwzs20A/gjAPwD4SzMzTNgCBUyTJ6tP3kTTHKLR5D69uDphc1l0HNlNj7VAu4ySAuL1xL7j+nEdScUmidgk4c5WHsm71LlT2xfK+/cFAJ+k62xC5gIFyqUupo2ctM8fAHDU3R8c5gLuvsfdd7n7rrlhTiBEx8iRf1cB+JCZXYeeblkL4HZkLlCwGDR5c/q8Ojmjh31OvJfJjtbMbNqX1jiNprQ2JGeIpj9EK4E2rcs0rKerLdEyshFtPHRNMi+6Zpt9c2jsqdz9Nnff5u7bAdwI4Ifu/hFogQIhkowyTvUpTNACBW3CYvipPRel5uGV+zjj0cu0YfUjiZrwOBX3VIfmzRO/mLefDa5Z28GqgVGP1Ca7UBArXzxSOyecrIkcB0dbJ0jquBI9dtv1qe4DcF9lL/oCBUJMIgpTEqIwnQhTivIrRF01d+epcRuWSBtYXrEU44jxJ8nmUKIdFGK0uj6Yx6no6q8enbefQNrm69SnC1YNDFRhmGiySf61/fGfIid9XM4+0TlTRHXK+d/IPYei1IVYZNSohChMJ+Qfw101PxGiSWmpMRxOZf4qOejmWPI9TnaUH5311TmVTltJeo0rwh7EI2T/jGyWgod7L0514lNE8i+SfClPYJTPYticDTkZg6PU7FEi3JnEvjnkeC2bxqyGRT2VEIVRoxKiMJ2TfxFR7oOU94+lE2cA236Y3kQLDbBm4oPrlQ5Yx3BFogy1T5H9KNlPvPESkfzjVQaj1QR5n98mynLSe7Xx/rVdpadpssCwuTJyKB2ipZ5KiMKoUQlRmM7Jv5yB4EjK1J6xUJqQhryApRifhOPzeFHtelA4kn/R+lQsBUl+Hq00Gof+86XZgxl5/Np4/6J0Zm0WPOAnNH+ufA5ejyFnYLneJ8qgm0PbyPjBa7dFPZUQhVGjEqIwnZB/USbVnIHg1OAvSwn2qDGv00W3kIdujqUbewtrXRPJP64IneMEDT5z6GFdL/b+8aWjKR6RnVrHKSedWeQJTBHdeuRI5e8vWqYrdWw0yBz1EOOQfIx6KiEKo0YlRGE6If8iIk8gx7HxU4PlToooZpCl1jqSa2vITiWU5fpFeSSiLBepib/s8eOB2yhfRXQ/qRwVUf2i86Uk+WywnYmmgUTp0lKSM/oJEBH1HCWkXpvrCSGGRI1KiMLkZqh9Ej0VdArASXffZWYbAXwDwHb05qze4O6/WZhqzpPjCWSaPFbRvjnjtuyxSsWo5QxIRzN1azuK38vx1jUt0ZlzXE4cYH3PkZzKmRISeQ5TA8s5Hj9moWReRJue6vfc/XJ331W9/zSAfe5+CYB91Xshpp5RHBXXA7i6sveil2XpUyPWpxUlnkD8xM1xVEQR12ynyMnTmXIW5ORJjxwOTeU5vVMUvpQi+gxyeqphV3Lk7TkrQ46D3J7KAfybmT1oZrdUZVvc/ZnKfhZ9628KMb3k9lTvc/enzexcAPeYGU8Ch7u7mSWTzlSN8BagPxGREEuVrEbl7k9Xr0fN7DvoJdF8zsy2uvszZrYVwNHg2D0A9gDAlqDhlaZp7CLKu5Az0THKsZD6QZ2T2zuSnKkFpHMixtuQI1MieZVyVLRdgTG6zjDbJ4mcVT9Wmdma2gbwBwB+CuAu9HKoA8qlLsQZcnqqLQC+01vnDcsB/LO7f9/M7gfwTTO7Gb1J4TcsXDWF6A6NjarKmX5Zovx5ALsXolLD0Hb8qoblVzSuFKXSYobNpMrXScnCaGyo7YLPqbEdLmNZm5OXIiV9cxaizPHstRmHmkRZ2OnYP1GG5y8FDu8GTq4Dlr8ArNsHrP7JYtequ6hRTTnPXwo89UHgdNWdnFwP/PqDPVsNaziWZKNqGhSOottzPGqpEJq2tFkMIMdTGbEssFmuPb17vkHV+Czwwm5g80CjarrfnLRkOXYXJR+jgNop58S6dPnJoFw0o0Y15cy+kC5fHpSLZpak/IuoJVPkHYxkYeocQLsI+IimtZFGGeSNPG211FoJ4K37gEMf7JeAdgLYuq+3PZr8mSLKOLsysJsWJWA75+k/KT3EVDUq8UbOq343Pb67JwVnXwC27AM2ykkxNGpUAuf9BFhLjei1eFeRwVQ2qhzPWbRPCckX0STvcuodTZJcEZSniHJEvCmoS2owua38y5kGcraySWJSZKgQSwY1KiEKM5Xyr6tE00qGXdk9go8rsT5VZOd4AlPSEontk8Qk1kmITqOeaglQ4od71MtEjpmmMb2o54l6rWifNhMgJwX1VEIURo1KiMJI/nWUyGnBtJFM0fjWbFDedI6c5JdNki9i0nuCSa+fEJ1DjUqIwkj+LQFyVhBsCveJVqVkmsKkctKP5UjB1LFdevpn1dXM1pvZnWb2MzM7aGZXmtlGM7vHzB6tXjcsdGWF6AK5D4DbAXzf3d+OXmalg9ACBUIkMfezJ401s3UAHgZwsdPOZnYIwNWUofY+d99xtnNtMfMbC1R6Ghg26ywTybVU/ouc41LnAIb31uWkKysh+0YdOL4DwHPulrt/Tp0vQm+x9K+a2UNm9qUqU23WAgVmdouZPWBmD7yaWyshOkxOo1oO4J0AvujuV6C3ukqf1Kt6sGSX5+573H2Xu++aG7W2QnSAHO/fEQBH3H1/9f5O9BpV1gIFYjhqyTKKDGyKao+8f1F5dO4Uo0TOT4LkG4XG+rv7swAOm1n9e2k3gAPQAgVCJMkdp/oLAF8zs1kATwD4M/QapBYoEGKA3PWpHgawK7FpYhYoWKrkSLEcUpKk7UTHNrF/OZQe0J2U6SFdGqgWohOoUQlRGMX+dYhSUrCmbYzfsPJqIZ/ckyL5GPVUQhRGjUqIwkj+dZTSUpCZ9CftJEo+ZtI/PyE6h3qqJcCkP7mnDfVUQhRGjUqIwqhRCVEYNSohCqNGJURh1KiEKIwalRCFUaMSojBqVEIURo1KiMKoUQlRmMZGZWY7zOxh+nvRzD6uXOpCpMlJUXbI3S9398sBvAvAcQDfgXKpC5GkrfzbDeBxd38KwPUA9lblewH8ccmKCdFV2jaqGwF8vbKzcqkLMW1kN6oqkeaHAPzL4Laz5VLXAgVi2mjTU/0hgP929+eq989VOdRxtlzqWqBATBttGtVNmJd+gHKpC5Ekd3nSVQCuAfBtKv4MgGvM7FEAv1+9F2Lqyc2l/gqATQNlz0O51IV4A4qoEKIwalRCFEaNSojCqFEJURg1KiEKo0YlRGHUqIQojBqVEIVRoxKiMGpUQhRGjUqIwlhvKtSYLmb2SwCvAPjV2C66OGzG0r9HYDruczOAVe5+Tu4BY21UAGBmD7j7rrFedMxMwz0C03Gfw9yj5J8QhVGjEqIwi9Go9izCNcfNNNwjMB332foex/6bSoiljuSfEIUZa6Mys2vN7JCZPWZmSyKjrZldaGb3mtkBM3vEzG6typdcWmwzmzGzh8zs7ur9RWa2v/o+v1GlsessZrbezO40s5+Z2UEzu3KY73FsjcrMZgD8I3qpznYCuMnMdo7r+gvISQCfcPedAN4L4GPVfS3FtNi3AjhI7z8L4PPu/jYAvwFw86LUqhy3A/i+u78dwGXo3Wv779Hdx/IH4EoAP6D3twG4bVzXH+N9fhe9zFOHAGytyrYCOLTYdRvxvrZV/1TvB3A3AENv4Hd56vvt2h+AdQD+F5Wfgcpbf4/jlH8XADhM749UZUsGM9sO4AoA+7H00mJ/AcAnAZyu3m8CcMzdT1bvu/59XgTglwC+WkncL1Wp+Vp/j3JUFMLMVgP4FoCPu/uLvM17j7nOulnN7AMAjrr7g4tdlwVkOYB3Aviiu1+BXjhdn9TL/R7H2aieBnAhvd9WlXUeM1uBXoP6mrvXCUez0mJ3hKsAfMjMngRwB3oS8HYA682szh3Z9e/zCIAj7r6/en8neo2s9fc4zkZ1P4BLKo/RLHoriNw1xusvCGZmAL4M4KC7f442LZm02O5+m7tvc/ft6H1vP3T3jwC4F8CHq926fo/PAjhsZjuqot0ADmCY73HMPwavA/BzAI8D+OvF/nFa6J7eh54k+DGAh6u/69D7zbEPwKMA/h3AxsWua6H7vRrA3ZV9MYAfAXgMvdVg3rTY9Rvx3i4H8ED1Xf4rgA3DfI+KqBCiMHJUCFEYNSohCqNGJURh1KiEKIwalRCFUaMSojBqVEIURo1KiML8P/wAQ+ctNim/AAAAAElFTkSuQmCC\n",
      "text/plain": [
       "<Figure size 432x288 with 1 Axes>"
      ]
     },
     "metadata": {
      "needs_background": "light"
     },
     "output_type": "display_data"
    }
   ],
   "source": [
    "for obstacle in obstacles:\n",
    "    rover_world = apply_gaussian_to_field(rover_world,*obstacle)\n",
    "\n",
    "plt.imshow(rover_world, cmap='hot', interpolation='nearest')\n",
    "plt.plot(ball_location[0],ball_location[1],\"ro\",color = \"Green\")\n",
    "plt.show()"
   ]
  },
  {
   "cell_type": "markdown",
   "metadata": {},
   "source": [
    "We can see the rovers initial understanding of the environment with the tennis ball position in green shown as well. The rover only has the rough estimate of the tennis ball position given from the rough guassian near it. It does not know the exact location of the tennis ball, only that it is most likely nearby. "
   ]
  },
  {
   "cell_type": "code",
   "execution_count": 23,
   "metadata": {},
   "outputs": [
    {
     "name": "stdout",
     "output_type": "stream",
     "text": [
      "[[1.         1.         1.         ... 1.21369484 1.1776027  1.14613765]\n",
      " [1.         1.         1.         ... 1.25970569 1.21584251 1.1776027 ]\n",
      " [1.         1.         1.         ... 1.31248267 1.25970569 1.21369484]\n",
      " ...\n",
      " [1.         1.         1.         ... 1.         1.         1.        ]\n",
      " [1.         1.         1.         ... 1.         1.         1.        ]\n",
      " [1.         1.         1.         ... 1.         1.         1.        ]]\n",
      "(47, 38)\n",
      "(47, 39)\n",
      "(47, 38)\n",
      "(47, 39)\n",
      "(47, 38)\n",
      "(47, 39)\n",
      "(47, 38)\n",
      "(47, 39)\n",
      "(47, 38)\n",
      "(47, 39)\n",
      "(47, 38)\n",
      "(47, 39)\n",
      "(47, 38)\n",
      "(47, 39)\n",
      "(47, 38)\n",
      "(47, 39)\n",
      "(47, 38)\n",
      "(47, 39)\n",
      "(47, 38)\n",
      "(47, 39)\n",
      "(47, 38)\n",
      "(47, 39)\n",
      "(47, 38)\n",
      "(47, 39)\n",
      "(47, 38)\n",
      "(47, 39)\n",
      "(47, 38)\n",
      "(47, 39)\n",
      "(47, 38)\n",
      "(47, 39)\n",
      "(47, 38)\n",
      "(47, 39)\n",
      "(47, 38)\n"
     ]
    },
    {
     "ename": "KeyboardInterrupt",
     "evalue": "",
     "output_type": "error",
     "traceback": [
      "\u001b[0;31m---------------------------------------------------------------------------\u001b[0m",
      "\u001b[0;31mKeyboardInterrupt\u001b[0m                         Traceback (most recent call last)",
      "\u001b[0;32m<ipython-input-23-7e4c132d47f0>\u001b[0m in \u001b[0;36m<module>\u001b[0;34m\u001b[0m\n\u001b[1;32m      4\u001b[0m     \u001b[0mmin_y\u001b[0m\u001b[0;34m,\u001b[0m \u001b[0mmin_x\u001b[0m \u001b[0;34m=\u001b[0m \u001b[0mnp\u001b[0m\u001b[0;34m.\u001b[0m\u001b[0margwhere\u001b[0m\u001b[0;34m(\u001b[0m\u001b[0mrover_world\u001b[0m \u001b[0;34m==\u001b[0m \u001b[0mnp\u001b[0m\u001b[0;34m.\u001b[0m\u001b[0mmin\u001b[0m\u001b[0;34m(\u001b[0m\u001b[0mrover_world\u001b[0m\u001b[0;34m)\u001b[0m\u001b[0;34m)\u001b[0m\u001b[0;34m[\u001b[0m\u001b[0;36m0\u001b[0m\u001b[0;34m]\u001b[0m\u001b[0;34m\u001b[0m\u001b[0;34m\u001b[0m\u001b[0m\n\u001b[1;32m      5\u001b[0m     \u001b[0mprint\u001b[0m\u001b[0;34m(\u001b[0m\u001b[0mrover_loc\u001b[0m\u001b[0;34m)\u001b[0m\u001b[0;34m\u001b[0m\u001b[0;34m\u001b[0m\u001b[0m\n\u001b[0;32m----> 6\u001b[0;31m     \u001b[0mcurr_path\u001b[0m \u001b[0;34m=\u001b[0m \u001b[0ma_star_search\u001b[0m\u001b[0;34m(\u001b[0m\u001b[0mrover_world\u001b[0m\u001b[0;34m,\u001b[0m\u001b[0mrover_loc\u001b[0m\u001b[0;34m,\u001b[0m\u001b[0;34m(\u001b[0m\u001b[0mmin_y\u001b[0m\u001b[0;34m,\u001b[0m\u001b[0mmin_x\u001b[0m\u001b[0;34m)\u001b[0m\u001b[0;34m)\u001b[0m\u001b[0;34m\u001b[0m\u001b[0;34m\u001b[0m\u001b[0m\n\u001b[0m\u001b[1;32m      7\u001b[0m \u001b[0;34m\u001b[0m\u001b[0m\n\u001b[1;32m      8\u001b[0m     \u001b[0;32mif\u001b[0m \u001b[0mlen\u001b[0m\u001b[0;34m(\u001b[0m\u001b[0mcurr_path\u001b[0m\u001b[0;34m)\u001b[0m \u001b[0;34m==\u001b[0m \u001b[0;36m1\u001b[0m\u001b[0;34m:\u001b[0m\u001b[0;34m\u001b[0m\u001b[0;34m\u001b[0m\u001b[0m\n",
      "\u001b[0;32m~/workspace/nova-rover/novaRoverDemos/nova_rover_demos/pathfinding/a_star.py\u001b[0m in \u001b[0;36ma_star_search\u001b[0;34m(grid, start, end, heuristic_cost)\u001b[0m\n\u001b[1;32m     91\u001b[0m             \u001b[0mcurr_g_score\u001b[0m \u001b[0;34m=\u001b[0m  \u001b[0mg_cost\u001b[0m\u001b[0;34m[\u001b[0m\u001b[0mcurr\u001b[0m\u001b[0;34m]\u001b[0m \u001b[0;34m+\u001b[0m \u001b[0m_grid_cost\u001b[0m\u001b[0;34m(\u001b[0m\u001b[0mneighbor\u001b[0m\u001b[0;34m,\u001b[0m \u001b[0mgrid\u001b[0m\u001b[0;34m)\u001b[0m\u001b[0;34m\u001b[0m\u001b[0;34m\u001b[0m\u001b[0m\n\u001b[1;32m     92\u001b[0m             \u001b[0;31m# add neighbor to newly discovered nodes\u001b[0m\u001b[0;34m\u001b[0m\u001b[0;34m\u001b[0m\u001b[0;34m\u001b[0m\u001b[0m\n\u001b[0;32m---> 93\u001b[0;31m             \u001b[0;32mif\u001b[0m \u001b[0mneighbor\u001b[0m \u001b[0;32mnot\u001b[0m \u001b[0;32min\u001b[0m \u001b[0mopen_set\u001b[0m\u001b[0;34m:\u001b[0m\u001b[0;34m\u001b[0m\u001b[0;34m\u001b[0m\u001b[0m\n\u001b[0m\u001b[1;32m     94\u001b[0m                 \u001b[0mf_cost\u001b[0m \u001b[0;34m=\u001b[0m \u001b[0mg_cost\u001b[0m\u001b[0;34m[\u001b[0m\u001b[0mneighbor\u001b[0m\u001b[0;34m]\u001b[0m \u001b[0;34m+\u001b[0m \u001b[0mheuristic_cost\u001b[0m\u001b[0;34m(\u001b[0m\u001b[0mneighbor\u001b[0m\u001b[0;34m,\u001b[0m \u001b[0mend\u001b[0m\u001b[0;34m)\u001b[0m\u001b[0;34m\u001b[0m\u001b[0;34m\u001b[0m\u001b[0m\n\u001b[1;32m     95\u001b[0m                 \u001b[0mopen_set\u001b[0m\u001b[0;34m.\u001b[0m\u001b[0mput\u001b[0m\u001b[0;34m(\u001b[0m\u001b[0mneighbor\u001b[0m\u001b[0;34m,\u001b[0m \u001b[0mf_cost\u001b[0m\u001b[0;34m)\u001b[0m\u001b[0;34m\u001b[0m\u001b[0;34m\u001b[0m\u001b[0m\n",
      "\u001b[0;31mKeyboardInterrupt\u001b[0m: "
     ]
    }
   ],
   "source": [
    "while rover_loc != ball_location:\n",
    "    rover_world = scan(rover_world,unknown,rover_loc,ball_location)\n",
    "    min_y, min_x = np.argwhere(rover_world == np.min(rover_world))[0]\n",
    "    print(rover_loc)\n",
    "    curr_path = a_star_search(rover_world,rover_loc,(min_y,min_x))\n",
    "\n",
    "    if len(curr_path) == 1:\n",
    "        break\n",
    "\n",
    "    rover_loc = curr_path[1]\n",
    "    path.append(rover_loc)\n",
    "    \n",
    "plt.imshow(rover_world, cmap='hot', interpolation='nearest')\n",
    "plt.plot(ball_location[0],ball_location[1],\"ro\",color = \"Green\")\n",
    "x_pos = []\n",
    "y_pos = []\n",
    "for ob in unknown_obstacles:\n",
    "    plt.plot(ob[0],ob[1],\"X\",color=\"black\")\n",
    "for x, y in path:\n",
    "    x_pos.append(x)\n",
    "    y_pos.append(y)\n",
    "plt.plot(x_pos,y_pos)\n",
    "plt.show()"
   ]
  },
  {
   "cell_type": "markdown",
   "metadata": {},
   "source": [
    "The path the rover took to reach the final tennis ball is shown in blue and any obstacles added to the field are in black crosses and the rovers final knowledge of the environment. \n",
    "\n",
    "We can see that one of the major remaining issues is that the search path does not priorities driving over regions of interest on the way to any given target. This can be addressed by adjusting the heuristic of the a* search algorithm. But that is beyond the scope of this demonstration. \n",
    "\n",
    "The purpose was to demonstrate a decision making process for the rover to navigate an environment that it has only partial information about. It assumes a robust target recognition, obstacle detection and robot localisation system.  These will need to be built in order to work.\n"
   ]
  },
  {
   "cell_type": "code",
   "execution_count": null,
   "metadata": {},
   "outputs": [],
   "source": []
  }
 ],
 "metadata": {
  "kernelspec": {
   "display_name": "Python 3",
   "language": "python",
   "name": "python3"
  },
  "language_info": {
   "codemirror_mode": {
    "name": "ipython",
    "version": 3
   },
   "file_extension": ".py",
   "mimetype": "text/x-python",
   "name": "python",
   "nbconvert_exporter": "python",
   "pygments_lexer": "ipython3",
   "version": "3.6.8"
  }
 },
 "nbformat": 4,
 "nbformat_minor": 4
}
