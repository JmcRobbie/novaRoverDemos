{
 "cells": [
  {
   "cell_type": "markdown",
   "metadata": {},
   "source": [
    "### EKF slam and driving through poles\n",
    "\n",
    "This jupyter notebook will use EKF slam to steer an imaginary rover through some poles. \n",
    "\n",
    "Again leaning heavily on the libraries from the PythonRobotics with some augmentations. "
   ]
  },
  {
   "cell_type": "code",
   "execution_count": 1,
   "metadata": {},
   "outputs": [],
   "source": [
    "from SLAM.ekfSlam import ekfSlam\n",
    "from utils.rover import Rover\n",
    "from Control import pose_control\n",
    "import numpy as np\n",
    "import matplotlib.pyplot as plt\n",
    "import math"
   ]
  },
  {
   "cell_type": "markdown",
   "metadata": {},
   "source": [
    "The idea will be to identify a \"lineup\" pose that we should drive to in order to prepare for the rover to drive through the gates, then drive through the gates. Then stop. "
   ]
  },
  {
   "cell_type": "code",
   "execution_count": 2,
   "metadata": {},
   "outputs": [],
   "source": [
    "def targetPose(pole1,pole2):\n",
    "    mid = ((pole1[0]+pole2[0])/2.0,(pole1[1]+pole2[1])/2.0)\n",
    "    dy = pole2[1]-pole1[1]\n",
    "    dx = pole2[0]-pole1[0]\n",
    "    theta = np.arctan2(dx,dy)\n",
    "    return Rover(1*np.cos(theta)+mid[0],1*np.sin(theta)+mid[1],theta + np.pi)"
   ]
  },
  {
   "cell_type": "code",
   "execution_count": 3,
   "metadata": {},
   "outputs": [
    {
     "name": "stdout",
     "output_type": "stream",
     "text": [
      "Time take to reach objective  1  was  3.6399999999999664  seconds\n",
      "Time take to reach objective  2  was  5.869999999999919  seconds\n",
      "Time take to reach objective  3  was  11.269999999999804  seconds\n"
     ]
    }
   ],
   "source": [
    "pole = np.array([[5.0, 5.0],\n",
    "                        [7.0, 5.0]])\n",
    "# State Vector [x y yaw v]'\n",
    "xEst = np.zeros((ekfSlam.STATE_SIZE, 1))\n",
    "xTrue = np.zeros((ekfSlam.STATE_SIZE, 1))\n",
    "PEst = np.eye(ekfSlam.STATE_SIZE)\n",
    "\n",
    "xDR = np.zeros((ekfSlam.STATE_SIZE, 1))  # Dead reckoning\n",
    "\n",
    "# history\n",
    "hxEst = xEst\n",
    "hxTrue = xTrue\n",
    "hxDR = xTrue\n",
    "\n",
    "## Setting up simulation.\n",
    "T = 0.0\n",
    "rov = Rover(0.0,0.0,0.0) # start it at the origin. \n",
    "\n",
    "# setting up goals and simulation parameters\n",
    "pose_control.dt = ekfSlam.DT = 0.01\n",
    "poseGoal = [targetPose(pole[1],pole[0]),targetPose(pole[0],pole[1]), Rover(0,0,0)]\n",
    "poseGoal[1].theta = poseGoal[0].theta\n",
    "\n",
    "for i in range(len(poseGoal)):\n",
    "    v = 10\n",
    "    yawrate = 10\n",
    "    while(rov.check_error(poseGoal[i])>0.1):\n",
    "        T += ekfSlam.DT\n",
    "\n",
    "        v,yawrate = pose_control.move_to_pose_step(rov,poseGoal[i])\n",
    "        if abs(v)>10:\n",
    "            v = math.copysign(10,v)\n",
    "        if abs(yawrate)>100:\n",
    "            v = math.copysign(100,yawrate)\n",
    "        \n",
    "        u = np.array([[v, yawrate]]).T\n",
    "        xTrue, z, xDR, ud = ekfSlam.observation(xTrue, xDR, u, pole)\n",
    "\n",
    "        xEst, PEst = ekfSlam.ekf_slam(xEst, PEst, ud, z)\n",
    "\n",
    "        x_state = xEst[0:ekfSlam.STATE_SIZE]\n",
    "\n",
    "        rov.x = xEst[0][0]\n",
    "        rov.y = xEst[1][0]\n",
    "        rov.theta = xEst[2][0]\n",
    "        \n",
    "        # store data history\n",
    "        hxEst = np.hstack((hxEst, x_state))\n",
    "        hxDR = np.hstack((hxDR, xDR))\n",
    "        hxTrue = np.hstack((hxTrue, xTrue))\n",
    "\n",
    "    print(\"Time take to reach objective \" ,i+1,\" was \", T, \" seconds\")"
   ]
  },
  {
   "cell_type": "code",
   "execution_count": 4,
   "metadata": {},
   "outputs": [
    {
     "ename": "SyntaxError",
     "evalue": "EOL while scanning string literal (<ipython-input-4-19ed38454867>, line 2)",
     "output_type": "error",
     "traceback": [
      "\u001b[0;36m  File \u001b[0;32m\"<ipython-input-4-19ed38454867>\"\u001b[0;36m, line \u001b[0;32m2\u001b[0m\n\u001b[0;31m    plt.scatter(x,y,\")\u001b[0m\n\u001b[0m                      ^\u001b[0m\n\u001b[0;31mSyntaxError\u001b[0m\u001b[0;31m:\u001b[0m EOL while scanning string literal\n"
     ]
    }
   ],
   "source": [
    "x,y = pole.T\n",
    "plt.scatter(x,y)\n",
    "plt.plot(hxTrue[0, :],\n",
    "        hxTrue[1, :], \"-b\")\n",
    "plt.plot(hxDR[0, :],\n",
    "        hxDR[1, :], \"-k\")\n",
    "plt.plot(hxEst[0, :],\n",
    "        hxEst[1, :], \"-r\")\n",
    "plt.axis(\"equal\")\n",
    "plt.grid(True)\n",
    "plt.pause(0.001)\n",
    "plt.show()"
   ]
  },
  {
   "cell_type": "code",
   "execution_count": null,
   "metadata": {},
   "outputs": [],
   "source": []
  }
 ],
 "metadata": {
  "kernelspec": {
   "display_name": "p36workshop",
   "language": "python",
   "name": "p36workshop"
  },
  "language_info": {
   "codemirror_mode": {
    "name": "ipython",
    "version": 3
   },
   "file_extension": ".py",
   "mimetype": "text/x-python",
   "name": "python",
   "nbconvert_exporter": "python",
   "pygments_lexer": "ipython3",
   "version": "3.6.9"
  }
 },
 "nbformat": 4,
 "nbformat_minor": 2
}
