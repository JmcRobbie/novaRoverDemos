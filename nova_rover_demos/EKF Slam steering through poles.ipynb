{
 "cells": [
  {
   "cell_type": "markdown",
   "metadata": {},
   "source": [
    "### EKF slam and driving through poles\n",
    "\n",
    "This jupyter notebook will use EKF slam to steer an imaginary rover through some poles. \n",
    "\n",
    "Again leaning heavily on the libraries from the PythonRobotics with some augmentations. "
   ]
  },
  {
   "cell_type": "code",
   "execution_count": 1,
   "metadata": {},
   "outputs": [],
   "source": [
    "from SLAM.ekfSlam import ekfSlam\n",
    "from utils.rover import Rover\n",
    "from Control import pose_control\n",
    "import numpy as np\n",
    "import matplotlib.pyplot as plt"
   ]
  },
  {
   "cell_type": "markdown",
   "metadata": {},
   "source": [
    "The idea will be to identify a \"lineup\" pose that we should drive to in order to prepare for the rover to drive through the gates, then drive through the gates. Then stop. "
   ]
  },
  {
   "cell_type": "code",
   "execution_count": 2,
   "metadata": {},
   "outputs": [],
   "source": [
    "def targetPose(pole1,pole2):\n",
    "    mid = ((pole1[1]+pole2[1])/2.0,(pole1[1]+pole2[1])/2.0)\n",
    "    dy = pole2[1]-pole1[1]\n",
    "    dx = pole2[0]-pole1[0]\n",
    "    theta = np.arctan2(dx,dy)-np.pi/2\n",
    "    return Rover(1*np.cos(theta)+mid[0],1*np.sin(theta)+mid[1],theta + np.pi)\n",
    "    "
   ]
  },
  {
   "cell_type": "code",
   "execution_count": 3,
   "metadata": {},
   "outputs": [],
   "source": [
    "pole = np.array([[10.0, 10.0],\n",
    "                        [11.0, 11.0]])\n",
    "# State Vector [x y yaw v]'\n",
    "xEst = np.zeros((ekfSlam.STATE_SIZE, 1))\n",
    "xTrue = np.zeros((ekfSlam.STATE_SIZE, 1))\n",
    "PEst = np.eye(ekfSlam.STATE_SIZE)\n",
    "\n",
    "xDR = np.zeros((ekfSlam.STATE_SIZE, 1))  # Dead reckoning\n",
    "\n",
    "# history\n",
    "hxEst = xEst\n",
    "hxTrue = xTrue\n",
    "hxDR = xTrue\n",
    "\n",
    "## Setting up simulation.\n",
    "T = 0.0\n",
    "rov = Rover(0,0,0) # start it at the origin. \n",
    "v = 10\n",
    "yawrate = 10\n",
    "## Setting up control gains.\n",
    "\n",
    "pose_control.dt = ekfSlam.DT = 0.01\n",
    "poseGoal = [targetPose(pole[0],pole[1]),targetPose(pole[1],pole[0]), Rover(0,0,0)]\n",
    "poseGoal[1].theta = poseGoal[0].theta\n",
    "for i in range(len(poseGoal)):\n",
    "    v = 10\n",
    "    yawrate = 10\n",
    "    while(v>0.01 or yawrate>0.01):\n",
    "        T += ekfSlam.DT\n",
    "\n",
    "        v,yawrate = pose_control.move_to_pose_step(rov,poseGoal[i])\n",
    "\n",
    "        u = np.array([[v, yawrate]]).T\n",
    "        xTrue, z, xDR, ud = ekfSlam.observation(xTrue, xDR, u, pole)\n",
    "\n",
    "        xEst, PEst = ekfSlam.ekf_slam(xEst, PEst, ud, z)\n",
    "\n",
    "        x_state = xEst[0:ekfSlam.STATE_SIZE]\n",
    "\n",
    "        rov.x = xEst[0][0]\n",
    "        rov.y = xEst[1][0]\n",
    "        rov.theta = xEst[2][0]\n",
    "\n",
    "        # store data history\n",
    "        hxEst = np.hstack((hxEst, x_state))\n",
    "        hxDR = np.hstack((hxDR, xDR))\n",
    "        hxTrue = np.hstack((hxTrue, xTrue))\n"
   ]
  },
  {
   "cell_type": "code",
   "execution_count": 4,
   "metadata": {},
   "outputs": [
    {
     "data": {
      "image/png": "[encoded data removed]",
      "text/plain": [
       "<Figure size 432x288 with 1 Axes>"
      ]
     },
     "metadata": {},
     "output_type": "display_data"
    }
   ],
   "source": [
    "for i in range(ekfSlam.calc_n_LM(xEst)):\n",
    "    plt.plot(xEst[ekfSlam.STATE_SIZE + i * 2],\n",
    "            xEst[ekfSlam.STATE_SIZE + i * 2 + 1], \"xg\")\n",
    "\n",
    "plt.plot(hxTrue[0, :],\n",
    "        hxTrue[1, :], \"-b\")\n",
    "plt.plot(hxDR[0, :],\n",
    "        hxDR[1, :], \"-k\")\n",
    "plt.plot(hxEst[0, :],\n",
    "        hxEst[1, :], \"-r\")\n",
    "plt.axis(\"equal\")\n",
    "plt.grid(True)\n",
    "plt.pause(0.001)\n",
    "plt.show()"
   ]
  },
  {
   "cell_type": "markdown",
   "metadata": {},
   "source": []
  }
 ],
 "metadata": {
  "kernelspec": {
   "display_name": "Python 3",
   "language": "python",
   "name": "python3"
  },
  "language_info": {
   "codemirror_mode": {
    "name": "ipython",
    "version": 3
   },
   "file_extension": ".py",
   "mimetype": "text/x-python",
   "name": "python",
   "nbconvert_exporter": "python",
   "pygments_lexer": "ipython3",
   "version": "3.6.8"
  }
 },
 "nbformat": 4,
 "nbformat_minor": 2
}
