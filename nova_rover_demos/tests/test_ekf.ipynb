{
 "cells": [
  {
   "cell_type": "code",
   "execution_count": 1,
   "metadata": {},
   "outputs": [],
   "source": [
    "import sys\n",
    "import os\n",
    "import unittest\n",
    "from numpy.testing import *\n",
    "sys.path.append(os.path.dirname(os.path.abspath('')) + \"/../\")\n",
    "\n",
    "try:\n",
    "    from nova_rover_demos.localisation_mapping.ekf import *\n",
    "except:\n",
    "    raise"
   ]
  },
  {
   "cell_type": "code",
   "execution_count": 2,
   "metadata": {},
   "outputs": [],
   "source": [
    "class TestEKF(unittest.TestCase):\n",
    "\n",
    "    def setUp(self):\n",
    "        self.u = np.array([[0.5], [1.5]])\n",
    "        self.Q = np.diag([0.1, 0.1, np.deg2rad(1.0), 1.0]) ** 2\n",
    "        self.R = np.diag([1.0, 1.0]) ** 2\n",
    "\n",
    "        #  Simulation parameter\n",
    "        self.INPUT_NOISE = np.diag([1.0, np.deg2rad(30.0)]) ** 2\n",
    "        self.GPS_NOISE = np.diag([0.5, 0.5]) ** 2\n",
    "\n",
    "        self.DT = 0.1  # time tick [s]\n",
    "        self.SIM_TIME = 50.0  # simulation time [s]\n",
    "\n",
    "        # State Vector [x y yaw v]'\n",
    "        self.xTrue = np.zeros((4, 1))\n",
    "        self.xEst = np.zeros((4, 1))\n",
    "        self.PEst = np.eye(4)\n",
    "\n",
    "        self.xDR = np.zeros((4, 1))  # Dead reckoning\n",
    "        \n",
    "\n",
    "    def test_observation(self):\n",
    "        xTrue, z, xd, ud = observation(self.xTrue, self.xDR, self.u)\n",
    "        # testing for array equality with functions from numpy.testing\n",
    "        assert_almost_equal(xTrue, [[0.05], [0.0], [0.15], [0.5]])\n",
    "        # no point to test the other three outputs because noise is added to produce random values\n",
    "\n",
    "    #         assert_almost_equal(z, [[ 0.88849999], [-0.21255136]])\n",
    "    #         assert_almost_equal(xd, [[0.13807903], [0.0], [0.12893121], [1.38079034]])\n",
    "    #         assert_almost_equal(ud, [[1.38079034], [1.28931208]])\n",
    "    \n",
    "\n",
    "    def test_ekf_estimation(self):\n",
    "        xTrue, z, xd, ud = observation(self.xTrue, self.xDR, self.u)\n",
    "        xEst, PEst = ekf_estimation(self.xEst, self.PEst, z, self.u)\n",
    "        #         assert_almost_equal(xEst, [[ 0.4733085 ], [-0.10671596], [ 0.14166538], [ 0.53947135]])\n",
    "        assert_almost_equal(PEst, [[5.04909295e-01, 2.72603352e-04, -3.71274863e-03, 4.89490633e-02],\n",
    "                                   [2.72603352e-04, 5.03146790e-01, 2.45657411e-02, 7.39792735e-03],\n",
    "                                   [-3.71274863e-03, 2.45657411e-02, 9.99062381e-01, 6.85223807e-20],\n",
    "                                   [4.89490633e-02, 7.39792735e-03, 2.37090963e-20, 1.99504950e+00]])\n",
    "\n",
    "\n"
   ]
  },
  {
   "cell_type": "code",
   "execution_count": 3,
   "metadata": {},
   "outputs": [
    {
     "name": "stderr",
     "output_type": "stream",
     "text": [
      "..\n",
      "----------------------------------------------------------------------\n",
      "Ran 2 tests in 0.002s\n",
      "\n",
      "OK\n"
     ]
    },
    {
     "data": {
      "text/plain": [
       "<unittest.main.TestProgram at 0x10f746910>"
      ]
     },
     "execution_count": 3,
     "metadata": {},
     "output_type": "execute_result"
    }
   ],
   "source": [
    "unittest.main(argv=['first-arg-is-ignored'], exit=False)"
   ]
  },
  {
   "cell_type": "code",
   "execution_count": null,
   "metadata": {},
   "outputs": [],
   "source": []
  }
 ],
 "metadata": {
  "kernelspec": {
   "display_name": "Python 3",
   "language": "python",
   "name": "python3"
  },
  "language_info": {
   "codemirror_mode": {
    "name": "ipython",
    "version": 3
   },
   "file_extension": ".py",
   "mimetype": "text/x-python",
   "name": "python",
   "nbconvert_exporter": "python",
   "pygments_lexer": "ipython3",
   "version": "3.7.5"
  }
 },
 "nbformat": 4,
 "nbformat_minor": 2
}
