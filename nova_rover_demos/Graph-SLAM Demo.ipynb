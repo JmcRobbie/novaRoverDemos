{
 "cells": [
  {
   "cell_type": "code",
   "execution_count": 1,
   "metadata": {},
   "outputs": [],
   "source": [
    "from SLAM.graph_slam import GraphSlam\n",
    "from utils.rover import Rover\n",
    "from Control import pose_control\n",
    "import numpy as np\n",
    "import matplotlib.pyplot as plt\n",
    "import math\n",
    "from utils.pose import Pose"
   ]
  },
  {
   "cell_type": "code",
   "execution_count": null,
   "metadata": {},
   "outputs": [],
   "source": [
    "# Waypoint lamdmarks [x, y, yaw]\n",
    "waypoint_loc = np.array([[2.0, 2.0, 0.0],\n",
    "                        [5.0, 3.0, 0.0],\n",
    "                        [-7.0, 19.0, 0.0],\n",
    "                        [4.0, 17.0, 0.0]])\n",
    "\n",
    "# consider 5 obstacles/landmarks \n",
    "# RFID positions [x, y, yaw]\n",
    "RFID = np.array([[10.0, -2.0, 0.0],\n",
    "                [15.0, 10.0, 0.0],\n",
    "                [3.0, 15.0, 0.0],\n",
    "                [-5.0, 20.0, 0.0],\n",
    "                [-5.0, 5.0, 0.0]])\n",
    "\n",
    "RFID = np.append(RFID, waypoint_loc)\n",
    "\n",
    "waypoint_range = 2.0\n",
    "sensor_range = 5.0\n",
    "\n",
    "xTrue = np.zeros((GraphSlam.STATE_SIZE, 1))\n",
    "xDR = np.zeros((GraphSlam.STATE_SIZE, 1))  # Dead reckoning\n",
    "xTrue[2] = np.deg2rad(45)\n",
    "xDR[2] = np.deg2rad(45)\n",
    "\n",
    "# history initial values\n",
    "hxTrue = xTrue\n",
    "hxDR = xTrue\n",
    "\n",
    "## Setting up simulation.\n",
    "T = 0.0\n",
    "rov = Rover(0.0,0.0,0.0) # start it at the origin. \n",
    "\n",
    "rov.load_waypoints()\n",
    "\n",
    "pose_control.dt = GraphSlam.DT = 0.01\n",
    "poseGoal = []\n",
    "for waypoint in waypoint_loc:\n",
    "    poseGoal.append(Pose(waypoint[0], waypoint[1], waypoint[2]))\n",
    "\n",
    "_, z, _, _ = GraphSlam.observation(xTrue, xDR, np.array([[0,0]]).T, RFID)\n",
    "hz = [z]\n",
    "\n",
    "for i in range(GraphSlam.timesteps)"
   ]
  }
 ],
 "metadata": {
  "kernelspec": {
   "display_name": "Python 3",
   "language": "python",
   "name": "python3"
  },
  "language_info": {
   "codemirror_mode": {
    "name": "ipython",
    "version": 3
   },
   "file_extension": ".py",
   "mimetype": "text/x-python",
   "name": "python",
   "nbconvert_exporter": "python",
   "pygments_lexer": "ipython3",
   "version": "3.6.8"
  }
 },
 "nbformat": 4,
 "nbformat_minor": 2
}
